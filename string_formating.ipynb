{
  "nbformat": 4,
  "nbformat_minor": 0,
  "metadata": {
    "colab": {
      "provenance": [],
      "authorship_tag": "ABX9TyMfwVJjK1dIIHpOuu8vnAGP",
      "include_colab_link": true
    },
    "kernelspec": {
      "name": "python3",
      "display_name": "Python 3"
    },
    "language_info": {
      "name": "python"
    }
  },
  "cells": [
    {
      "cell_type": "markdown",
      "metadata": {
        "id": "view-in-github",
        "colab_type": "text"
      },
      "source": [
        "<a href=\"https://colab.research.google.com/github/AkshayNikam123/python-topicwise/blob/main/string_formating.ipynb\" target=\"_parent\"><img src=\"https://colab.research.google.com/assets/colab-badge.svg\" alt=\"Open In Colab\"/></a>"
      ]
    },
    {
      "cell_type": "code",
      "execution_count": null,
      "metadata": {
        "id": "T1PNRGj3-1Gc",
        "colab": {
          "base_uri": "https://localhost:8080/"
        },
        "outputId": "bae9a461-1827-440e-dc9c-f2b825bbe0b6"
      },
      "outputs": [
        {
          "output_type": "stream",
          "name": "stdout",
          "text": [
            "this is akshay3\n"
          ]
        }
      ],
      "source": [
        "me=\"akshay\"\n",
        "al=3\n",
        "a=\"this is {}{}\"\n",
        "b=a.format(me,al)\n",
        "print(b)\n",
        "#gets complicated multiple variables so introduced  fstring"
      ]
    },
    {
      "cell_type": "code",
      "source": [
        "me=\"akshay\"\n",
        "al=3\n",
        "a=\"this is {1}{0}\" #index number\n",
        "b=a.format(me,al)\n",
        "print(b)\n"
      ],
      "metadata": {
        "id": "KX_U4bo__AmN",
        "colab": {
          "base_uri": "https://localhost:8080/"
        },
        "outputId": "6b647b0c-35f9-4c29-d402-951f34c51214"
      },
      "execution_count": null,
      "outputs": [
        {
          "output_type": "stream",
          "name": "stdout",
          "text": [
            "this is 3akshay\n"
          ]
        }
      ]
    },
    {
      "cell_type": "code",
      "source": [
        "myorder = \"I have a {carname}, it is a {model}.\"\n",
        "print(myorder.format(carname = \"Ford\", model = \"Mustang\"))"
      ],
      "metadata": {
        "colab": {
          "base_uri": "https://localhost:8080/"
        },
        "id": "ND8htFrc3e9v",
        "outputId": "952172a2-b377-419c-cd93-6a1fa703b251"
      },
      "execution_count": null,
      "outputs": [
        {
          "output_type": "stream",
          "name": "stdout",
          "text": [
            "I have a Ford, it is a Mustang.\n"
          ]
        }
      ]
    },
    {
      "cell_type": "code",
      "source": [
        "me=\"akshay\"\n",
        "a=\"this is %s\"%(me)\n",
        "print(a)"
      ],
      "metadata": {
        "id": "HzsFfUswCqo7",
        "colab": {
          "base_uri": "https://localhost:8080/"
        },
        "outputId": "7457dac8-39ec-45db-fd02-597a48efab5b"
      },
      "execution_count": null,
      "outputs": [
        {
          "output_type": "stream",
          "name": "stdout",
          "text": [
            "this is akshay\n"
          ]
        }
      ]
    },
    {
      "cell_type": "code",
      "source": [
        "me=\"akshay\"\n",
        "al=3\n",
        "a=\"this is %s %s\"%(me,al)\n",
        "print(a)"
      ],
      "metadata": {
        "colab": {
          "base_uri": "https://localhost:8080/"
        },
        "id": "autnbAlGzoTw",
        "outputId": "b9d6f868-7da5-4a68-e245-85028f91248e"
      },
      "execution_count": null,
      "outputs": [
        {
          "output_type": "stream",
          "name": "stdout",
          "text": [
            "this is akshay 3\n"
          ]
        }
      ]
    },
    {
      "cell_type": "markdown",
      "source": [
        "#f string"
      ],
      "metadata": {
        "id": "OiPHbSOEzH0O"
      }
    },
    {
      "cell_type": "code",
      "source": [
        "a=f\"this is {me} {al}\"\n",
        "print(a)"
      ],
      "metadata": {
        "colab": {
          "base_uri": "https://localhost:8080/"
        },
        "id": "B-BnTXJCzJss",
        "outputId": "4812eb3d-e548-4627-992c-f5e993c3f092"
      },
      "execution_count": null,
      "outputs": [
        {
          "output_type": "stream",
          "name": "stdout",
          "text": [
            "this is akshay 3\n"
          ]
        }
      ]
    },
    {
      "cell_type": "code",
      "source": [
        "a=f\"this is {me} {al} {4*3}\"\n",
        "print(a)"
      ],
      "metadata": {
        "colab": {
          "base_uri": "https://localhost:8080/"
        },
        "id": "MG5C9GG10oKM",
        "outputId": "44756dcc-2e76-4a34-e54c-a0ae7beb0f74"
      },
      "execution_count": null,
      "outputs": [
        {
          "output_type": "stream",
          "name": "stdout",
          "text": [
            "this is akshay 3 12\n"
          ]
        }
      ]
    },
    {
      "cell_type": "code",
      "source": [
        "\n",
        "d=f\"THis is {me} {al} {cos(65)}\"\n",
        "print(d)"
      ],
      "metadata": {
        "colab": {
          "base_uri": "https://localhost:8080/",
          "height": 184
        },
        "id": "8awM3W_F0tdB",
        "outputId": "5e9af4a9-20d9-4d0c-f59d-f7e140898644"
      },
      "execution_count": null,
      "outputs": [
        {
          "output_type": "error",
          "ename": "NameError",
          "evalue": "ignored",
          "traceback": [
            "\u001b[0;31m---------------------------------------------------------------------------\u001b[0m",
            "\u001b[0;31mNameError\u001b[0m                                 Traceback (most recent call last)",
            "\u001b[0;32m<ipython-input-8-f4c02cca8e99>\u001b[0m in \u001b[0;36m<module>\u001b[0;34m\u001b[0m\n\u001b[0;32m----> 1\u001b[0;31m \u001b[0md\u001b[0m\u001b[0;34m=\u001b[0m\u001b[0;34mf\"THis is {me} {al} {cos(65)}\"\u001b[0m\u001b[0;34m\u001b[0m\u001b[0;34m\u001b[0m\u001b[0m\n\u001b[0m\u001b[1;32m      2\u001b[0m \u001b[0mprint\u001b[0m\u001b[0;34m(\u001b[0m\u001b[0md\u001b[0m\u001b[0;34m)\u001b[0m\u001b[0;34m\u001b[0m\u001b[0;34m\u001b[0m\u001b[0m\n",
            "\u001b[0;31mNameError\u001b[0m: name 'cos' is not defined"
          ]
        }
      ]
    },
    {
      "cell_type": "code",
      "source": [],
      "metadata": {
        "id": "Nx9Sw4iq23iH"
      },
      "execution_count": null,
      "outputs": []
    },
    {
      "cell_type": "code",
      "source": [
        "import math\n",
        "d=f\"THis is {me} {al} {math.cos(65)}\"\n",
        "print(d)"
      ],
      "metadata": {
        "colab": {
          "base_uri": "https://localhost:8080/"
        },
        "id": "oL1QhupI1TCK",
        "outputId": "025f9049-54a4-47d1-82b3-bf4a827760c1"
      },
      "execution_count": null,
      "outputs": [
        {
          "output_type": "stream",
          "name": "stdout",
          "text": [
            "THis is akshay 3 -0.562453851238172\n"
          ]
        }
      ]
    },
    {
      "cell_type": "code",
      "source": [],
      "metadata": {
        "id": "PtIxUG2g1Y2W"
      },
      "execution_count": null,
      "outputs": []
    }
  ]
}