{
  "nbformat": 4,
  "nbformat_minor": 0,
  "metadata": {
    "colab": {
      "provenance": [],
      "authorship_tag": "ABX9TyML8eoHXZK0LQihKIpJBs7g",
      "include_colab_link": true
    },
    "kernelspec": {
      "name": "python3",
      "display_name": "Python 3"
    },
    "language_info": {
      "name": "python"
    }
  },
  "cells": [
    {
      "cell_type": "markdown",
      "metadata": {
        "id": "view-in-github",
        "colab_type": "text"
      },
      "source": [
        "<a href=\"https://colab.research.google.com/github/AkshayNikam123/python-topicwise/blob/main/logging_and_debug.ipynb\" target=\"_parent\"><img src=\"https://colab.research.google.com/assets/colab-badge.svg\" alt=\"Open In Colab\"/></a>"
      ]
    },
    {
      "cell_type": "code",
      "execution_count": null,
      "metadata": {
        "colab": {
          "base_uri": "https://localhost:8080/"
        },
        "id": "I-TUSCXyWrkV",
        "outputId": "8fd66be7-7413-42c4-b534-7a42a9318ae2"
      },
      "outputs": [
        {
          "output_type": "stream",
          "name": "stdout",
          "text": [
            "25\n",
            "-5\n",
            "150\n",
            "0.6666666666666666\n"
          ]
        }
      ],
      "source": [
        "def sum(x,y):\n",
        "  return x+y\n",
        "\n",
        "def sub(x,y):\n",
        "  return x-y\n",
        "\n",
        "def mul(x,y):\n",
        "  return x*y\n",
        "\n",
        "def div(x,y):\n",
        "  return x/y\n",
        "\n",
        "num1=10\n",
        "num2=15\n",
        "\n",
        "a=sum(num1,num2)\n",
        "print(a)\n",
        "\n",
        "b=sub(num1,num2)\n",
        "print(b)\n",
        "\n",
        "c=mul(num1,num2)\n",
        "print(c)\n",
        "\n",
        "d=div(num1,num2)\n",
        "print(d)\n",
        "\n"
      ]
    },
    {
      "cell_type": "code",
      "source": [
        "import logging\n",
        "\n",
        "logging.basicConfig(level=logging.DEBUG)\n",
        "\n",
        "def sum(x,y):\n",
        "  return x+y\n",
        "\n",
        "def sub(x,y):\n",
        "  return x-y\n",
        "\n",
        "def mul(x,y):\n",
        "  return x*y\n",
        "\n",
        "def div(x,y):\n",
        "  return x/y\n",
        "\n",
        "num1=10\n",
        "num2=15\n",
        "\n",
        "a=sum(num1,num2)\n",
        "logging.debug(a)\n",
        "\n",
        "b=sub(num1,num2)\n",
        "logging.debug(b)\n",
        "\n",
        "c=mul(num1,num2)\n",
        "logging.debug(c)\n",
        "\n",
        "d=div(num1,num2)\n",
        "logging.debug(d)    #result can be viewed in vscode\n"
      ],
      "metadata": {
        "id": "f2fJ-p3oXZCR"
      },
      "execution_count": null,
      "outputs": []
    },
    {
      "cell_type": "code",
      "source": [
        "logging.info(\"this is info\")"
      ],
      "metadata": {
        "id": "kWhPjRxZYSrN"
      },
      "execution_count": null,
      "outputs": []
    },
    {
      "cell_type": "code",
      "source": [
        "logging.warning(\"warning\")"
      ],
      "metadata": {
        "colab": {
          "base_uri": "https://localhost:8080/"
        },
        "id": "TRhwWa9LZa5q",
        "outputId": "2dc153ca-dfc1-4985-d414-bf6c921a3f55"
      },
      "execution_count": null,
      "outputs": [
        {
          "output_type": "stream",
          "name": "stderr",
          "text": [
            "WARNING:root:warning\n"
          ]
        }
      ]
    },
    {
      "cell_type": "code",
      "source": [
        "import logging\n",
        "\n",
        "logging.basicConfig(level=logging.DEBUG)\n",
        "\n",
        "def sum(x,y):\n",
        "  return x+y\n",
        "\n",
        "def sub(x,y):\n",
        "  return x-y\n",
        "\n",
        "def mul(x,y):\n",
        "  return x*y\n",
        "\n",
        "def div(x,y):\n",
        "  return x/y\n",
        "\n",
        "num1=10\n",
        "num2=15\n",
        "\n",
        "a=sum(num1,num2)\n",
        "logging.debug(a)\n",
        "\n",
        "b=sub(num1,num2)\n",
        "logging.info(b)\n",
        "\n",
        "c=mul(num1,num2)\n",
        "logging.warning(c)\n",
        "\n",
        "d=div(num1,num2)\n",
        "logging.critical(d)    \n"
      ],
      "metadata": {
        "colab": {
          "base_uri": "https://localhost:8080/"
        },
        "id": "SroZULffZiU8",
        "outputId": "71f8f19e-e0d5-4c6a-e1eb-11c6998eaaaf"
      },
      "execution_count": null,
      "outputs": [
        {
          "output_type": "stream",
          "name": "stderr",
          "text": [
            "WARNING:root:150\n",
            "CRITICAL:root:0.6666666666666666\n"
          ]
        }
      ]
    },
    {
      "cell_type": "code",
      "source": [
        "import logging\n",
        "\n",
        "logging.basicConfig(filename=\"test1.log\",level=logging.DEBUG)\n",
        "\n",
        "def sum(x,y):\n",
        "  return x+y\n",
        "\n",
        "def sub(x,y):\n",
        "  return x-y\n",
        "\n",
        "def mul(x,y):\n",
        "  return x*y\n",
        "\n",
        "def div(x,y):\n",
        "  return x/y\n",
        "\n",
        "num1=10\n",
        "num2=15\n",
        "\n",
        "a=sum(num1,num2)\n",
        "logging.debug(a)\n",
        "\n",
        "b=sub(num1,num2)\n",
        "logging.info(b)\n",
        "\n",
        "c=mul(num1,num2)\n",
        "logging.warning(c)\n",
        "\n",
        "d=div(num1,num2)\n",
        "logging.critical(d)"
      ],
      "metadata": {
        "colab": {
          "base_uri": "https://localhost:8080/"
        },
        "id": "dBGu6WGtegE6",
        "outputId": "e0e63201-fa6d-407a-f08f-54e7070bd89d"
      },
      "execution_count": null,
      "outputs": [
        {
          "output_type": "stream",
          "name": "stderr",
          "text": [
            "WARNING:root:150\n",
            "CRITICAL:root:0.6666666666666666\n"
          ]
        }
      ]
    },
    {
      "cell_type": "code",
      "source": [
        "def namecheck(name):\n",
        "  if len(name)<2:\n",
        "    print(\"checking for length\")\n",
        "    return \"valid input\"\n",
        "\n",
        "  elif name.isspace():\n",
        "    print(\"checkign space\")\n",
        "    return \"valid input\"\n",
        "\n",
        "  elif name.isalpha():\n",
        "    print(\"checking alphabets\")\n",
        "    return \"valid input\"\n",
        "\n",
        "  elif name.replace(\" \",\"\").isalpha():\n",
        "    print(\"checking spaces\")\n",
        "    return \"valid input\"\n",
        "\n",
        "  else:\n",
        "    print(\"all check failed\")\n",
        "    return \"invalid input\""
      ],
      "metadata": {
        "id": "Oj7rmAl0eylx"
      },
      "execution_count": null,
      "outputs": []
    },
    {
      "cell_type": "code",
      "source": [
        "print(namecheck(\"akshay\"))"
      ],
      "metadata": {
        "colab": {
          "base_uri": "https://localhost:8080/"
        },
        "id": "HN0KDOXch2nj",
        "outputId": "f35bb9f5-0b49-4969-f228-86318dbbacf4"
      },
      "execution_count": null,
      "outputs": [
        {
          "output_type": "stream",
          "name": "stdout",
          "text": [
            "checking alphabets\n",
            "valid input\n"
          ]
        }
      ]
    },
    {
      "cell_type": "code",
      "source": [
        "print(namecheck(\"akshay \"))"
      ],
      "metadata": {
        "colab": {
          "base_uri": "https://localhost:8080/"
        },
        "id": "8JFsUfhfh8rm",
        "outputId": "eff7ff24-5aaf-46df-e6f0-155ed3af69ad"
      },
      "execution_count": null,
      "outputs": [
        {
          "output_type": "stream",
          "name": "stdout",
          "text": [
            "checking spaces\n",
            "valid input\n"
          ]
        }
      ]
    },
    {
      "cell_type": "code",
      "source": [
        "print(namecheck(\"akshay123\"))"
      ],
      "metadata": {
        "colab": {
          "base_uri": "https://localhost:8080/"
        },
        "id": "LcFd180wiELf",
        "outputId": "1ed7b487-535a-4ea6-90c1-e298f795f597"
      },
      "execution_count": null,
      "outputs": [
        {
          "output_type": "stream",
          "name": "stdout",
          "text": [
            "all check failed\n",
            "invalid input\n"
          ]
        }
      ]
    },
    {
      "cell_type": "code",
      "source": [
        "import logging\n",
        "\n",
        "logging.basicConfig(filename=\"demo.log\",level=logging.DEBUG)\n",
        "def namecheck(name):\n",
        "  if len(name)<2:\n",
        "    logging.debug(\"checking for length\")\n",
        "    return \"valid input\"\n",
        "\n",
        "  elif name.isspace():\n",
        "    logging.debug(\"checkign space\")\n",
        "    return \"valid input\"\n",
        "\n",
        "  elif name.isalpha():\n",
        "    logging.debug(\"checking alphabets\")\n",
        "    return \"valid input\"\n",
        "\n",
        "  elif name.replace(\" \",\"\").isalpha():\n",
        "    logging.debug(\"checking spaces\")\n",
        "    return \"valid input\"\n",
        "\n",
        "  else:\n",
        "    logging.debug(\"all check failed\")\n",
        "    return \"invalid input\""
      ],
      "metadata": {
        "id": "TsVmrrF6iNj9"
      },
      "execution_count": null,
      "outputs": []
    },
    {
      "cell_type": "code",
      "source": [
        "result=namecheck(\"akshay\")"
      ],
      "metadata": {
        "id": "LRtIRwsNiiRV"
      },
      "execution_count": null,
      "outputs": []
    },
    {
      "cell_type": "code",
      "source": [
        "print(result)"
      ],
      "metadata": {
        "colab": {
          "base_uri": "https://localhost:8080/"
        },
        "id": "znp7fFfxjDX3",
        "outputId": "502c390b-11b6-4605-bb01-8443298360f3"
      },
      "execution_count": null,
      "outputs": [
        {
          "output_type": "stream",
          "name": "stdout",
          "text": [
            "valid input\n"
          ]
        }
      ]
    },
    {
      "cell_type": "code",
      "source": [
        "import logging\n",
        "\n",
        "logging.basicConfig(filename=\"demo.log\",level=logging.DEBUG,format='%(asctime)s-%(levelname)s-%(message)s')\n",
        "def namecheck(name):\n",
        "  if len(name)<2:\n",
        "    logging.debug(\"checking for length\")\n",
        "    return \"valid input\"\n",
        "\n",
        "  elif name.isspace():\n",
        "    logging.debug(\"checkign space\")\n",
        "    return \"valid input\"\n",
        "\n",
        "  elif name.isalpha():\n",
        "    logging.debug(\"checking alphabets\")\n",
        "    return \"valid input\"\n",
        "\n",
        "  elif name.replace(\" \",\"\").isalpha():\n",
        "    logging.debug(\"checking spaces\")\n",
        "    return \"valid input\"\n",
        "\n",
        "  else:\n",
        "    logging.debug(\"all check failed\")\n",
        "    return \"invalid input\""
      ],
      "metadata": {
        "id": "2041Eg6wjagE"
      },
      "execution_count": null,
      "outputs": []
    },
    {
      "cell_type": "code",
      "source": [],
      "metadata": {
        "id": "HRxmVEnUlP_M"
      },
      "execution_count": null,
      "outputs": []
    }
  ]
}