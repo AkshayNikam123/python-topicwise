{
  "nbformat": 4,
  "nbformat_minor": 0,
  "metadata": {
    "colab": {
      "provenance": [],
      "authorship_tag": "ABX9TyPv1utE6PI/o36eU7K+WFMP",
      "include_colab_link": true
    },
    "kernelspec": {
      "name": "python3",
      "display_name": "Python 3"
    },
    "language_info": {
      "name": "python"
    }
  },
  "cells": [
    {
      "cell_type": "markdown",
      "metadata": {
        "id": "view-in-github",
        "colab_type": "text"
      },
      "source": [
        "<a href=\"https://colab.research.google.com/github/AkshayNikam123/python-topicwise/blob/main/decorator.ipynb\" target=\"_parent\"><img src=\"https://colab.research.google.com/assets/colab-badge.svg\" alt=\"Open In Colab\"/></a>"
      ]
    },
    {
      "cell_type": "code",
      "execution_count": null,
      "metadata": {
        "colab": {
          "base_uri": "https://localhost:8080/"
        },
        "id": "6pFxb0YO2geg",
        "outputId": "36309275-2816-447f-b571-edcc684e8abc"
      },
      "outputs": [
        {
          "output_type": "stream",
          "name": "stdout",
          "text": [
            "im here\n"
          ]
        }
      ],
      "source": [
        "def function1():\n",
        "  print(\"im here\")\n",
        "\n",
        "func2=function1\n",
        "func2()"
      ]
    },
    {
      "cell_type": "code",
      "source": [
        "def function1():\n",
        "  print(\"im here\")\n",
        "\n",
        "func2=function1\n",
        "del function1 #return value even after del as it is saved in func2\n",
        "func2()"
      ],
      "metadata": {
        "colab": {
          "base_uri": "https://localhost:8080/"
        },
        "id": "N_soqeyz3DBZ",
        "outputId": "ae9f4e77-cc01-4349-e253-0cc5b22cd2b0"
      },
      "execution_count": null,
      "outputs": [
        {
          "output_type": "stream",
          "name": "stdout",
          "text": [
            "im here\n"
          ]
        }
      ]
    },
    {
      "cell_type": "code",
      "source": [
        "#calling function using function\n",
        "\n",
        "def funcret(num):\n",
        "  if num==0:\n",
        "    return print\n",
        "  if num==1:\n",
        "    return sum\n",
        "\n",
        "a=funcret(1)\n",
        "print(a)\n",
        "b=funcret(0)\n",
        "print(b)\n"
      ],
      "metadata": {
        "colab": {
          "base_uri": "https://localhost:8080/"
        },
        "id": "mWNWc6to3dRT",
        "outputId": "04122ee0-eca6-4da5-c3ef-e680bf984656"
      },
      "execution_count": null,
      "outputs": [
        {
          "output_type": "stream",
          "name": "stdout",
          "text": [
            "<built-in function sum>\n",
            "<built-in function print>\n"
          ]
        }
      ]
    },
    {
      "cell_type": "code",
      "source": [
        "#function as an argument\n",
        "\n",
        "def executor(func):\n",
        "  func(2,3)\n",
        "\n",
        "executor(sum)"
      ],
      "metadata": {
        "colab": {
          "base_uri": "https://localhost:8080/",
          "height": 323
        },
        "id": "YA7M5Uge3_23",
        "outputId": "d890c163-dd84-4a22-f6d2-9992ae67fd65"
      },
      "execution_count": null,
      "outputs": [
        {
          "output_type": "error",
          "ename": "TypeError",
          "evalue": "ignored",
          "traceback": [
            "\u001b[0;31m---------------------------------------------------------------------------\u001b[0m",
            "\u001b[0;31mTypeError\u001b[0m                                 Traceback (most recent call last)",
            "\u001b[0;32m<ipython-input-16-b3bb4c7cacf7>\u001b[0m in \u001b[0;36m<module>\u001b[0;34m\u001b[0m\n\u001b[1;32m      4\u001b[0m   \u001b[0mfunc\u001b[0m\u001b[0;34m(\u001b[0m\u001b[0;36m2\u001b[0m\u001b[0;34m,\u001b[0m\u001b[0;36m3\u001b[0m\u001b[0;34m)\u001b[0m\u001b[0;34m\u001b[0m\u001b[0;34m\u001b[0m\u001b[0m\n\u001b[1;32m      5\u001b[0m \u001b[0;34m\u001b[0m\u001b[0m\n\u001b[0;32m----> 6\u001b[0;31m \u001b[0mexecutor\u001b[0m\u001b[0;34m(\u001b[0m\u001b[0msum\u001b[0m\u001b[0;34m)\u001b[0m\u001b[0;34m\u001b[0m\u001b[0;34m\u001b[0m\u001b[0m\n\u001b[0m",
            "\u001b[0;32m<ipython-input-16-b3bb4c7cacf7>\u001b[0m in \u001b[0;36mexecutor\u001b[0;34m(func)\u001b[0m\n\u001b[1;32m      2\u001b[0m \u001b[0;34m\u001b[0m\u001b[0m\n\u001b[1;32m      3\u001b[0m \u001b[0;32mdef\u001b[0m \u001b[0mexecutor\u001b[0m\u001b[0;34m(\u001b[0m\u001b[0mfunc\u001b[0m\u001b[0;34m)\u001b[0m\u001b[0;34m:\u001b[0m\u001b[0;34m\u001b[0m\u001b[0;34m\u001b[0m\u001b[0m\n\u001b[0;32m----> 4\u001b[0;31m   \u001b[0mfunc\u001b[0m\u001b[0;34m(\u001b[0m\u001b[0;36m2\u001b[0m\u001b[0;34m,\u001b[0m\u001b[0;36m3\u001b[0m\u001b[0;34m)\u001b[0m\u001b[0;34m\u001b[0m\u001b[0;34m\u001b[0m\u001b[0m\n\u001b[0m\u001b[1;32m      5\u001b[0m \u001b[0;34m\u001b[0m\u001b[0m\n\u001b[1;32m      6\u001b[0m \u001b[0mexecutor\u001b[0m\u001b[0;34m(\u001b[0m\u001b[0msum\u001b[0m\u001b[0;34m)\u001b[0m\u001b[0;34m\u001b[0m\u001b[0;34m\u001b[0m\u001b[0m\n",
            "\u001b[0;31mTypeError\u001b[0m: 'int' object is not iterable"
          ]
        }
      ]
    },
    {
      "cell_type": "code",
      "source": [
        "\n",
        "def executor(func):\n",
        "  func(\"akshay\")\n",
        "\n",
        "executor(print)"
      ],
      "metadata": {
        "colab": {
          "base_uri": "https://localhost:8080/"
        },
        "id": "Z8ndIKIU5t-W",
        "outputId": "32b3563c-727c-4d5d-eab5-dd1387a3e723"
      },
      "execution_count": null,
      "outputs": [
        {
          "output_type": "stream",
          "name": "stdout",
          "text": [
            "akshay\n"
          ]
        }
      ]
    },
    {
      "cell_type": "code",
      "source": [
        "def dec1(func1):\n",
        "  def execunow():\n",
        "    print(\"execute now\")\n",
        "    func1()\n",
        "    print(\"executed\")\n",
        "  return execunow\n",
        "\n",
        "def who_is_akshay():\n",
        "  print(\"akshay is good boy\")\n",
        "\n",
        "who_is_akshay=dec1(who_is_akshay)\n",
        "who_is_akshay()"
      ],
      "metadata": {
        "colab": {
          "base_uri": "https://localhost:8080/"
        },
        "id": "LEqjP5Yo6Pwv",
        "outputId": "feb352ec-db35-4630-e225-46cb0618709f"
      },
      "execution_count": null,
      "outputs": [
        {
          "output_type": "stream",
          "name": "stdout",
          "text": [
            "execute now\n",
            "akshay is good boy\n",
            "executed\n"
          ]
        }
      ]
    },
    {
      "cell_type": "code",
      "source": [
        "def dec1(func1):\n",
        "  def execunow():\n",
        "    print(\"execute now\")\n",
        "    func1()\n",
        "    print(\"executed\")\n",
        "  return execunow\n",
        "@dec1\n",
        "def who_is_akshay():\n",
        "  print(\"akshay is good boy\")\n",
        "\n",
        "#who_is_akshay=dec1(who_is_akshay)\n",
        "who_is_akshay()"
      ],
      "metadata": {
        "colab": {
          "base_uri": "https://localhost:8080/"
        },
        "id": "JHQ802RK7s8o",
        "outputId": "575b4673-aefc-49b3-8ca6-86e033f6ab69"
      },
      "execution_count": null,
      "outputs": [
        {
          "output_type": "stream",
          "name": "stdout",
          "text": [
            "execute now\n",
            "akshay is good boy\n",
            "executed\n"
          ]
        }
      ]
    },
    {
      "cell_type": "code",
      "source": [],
      "metadata": {
        "id": "7HW6Ufs68fFa"
      },
      "execution_count": null,
      "outputs": []
    }
  ]
}