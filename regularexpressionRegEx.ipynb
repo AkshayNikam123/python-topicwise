{
  "nbformat": 4,
  "nbformat_minor": 0,
  "metadata": {
    "colab": {
      "provenance": [],
      "authorship_tag": "ABX9TyMfX1JDieZkohSaSReCnQG7",
      "include_colab_link": true
    },
    "kernelspec": {
      "name": "python3",
      "display_name": "Python 3"
    },
    "language_info": {
      "name": "python"
    }
  },
  "cells": [
    {
      "cell_type": "markdown",
      "metadata": {
        "id": "view-in-github",
        "colab_type": "text"
      },
      "source": [
        "<a href=\"https://colab.research.google.com/github/AkshayNikam123/python-topicwise/blob/main/regularexpressionRegEx.ipynb\" target=\"_parent\"><img src=\"https://colab.research.google.com/assets/colab-badge.svg\" alt=\"Open In Colab\"/></a>"
      ]
    },
    {
      "cell_type": "code",
      "execution_count": null,
      "metadata": {
        "colab": {
          "base_uri": "https://localhost:8080/"
        },
        "id": "43oZ0zNsYo4z",
        "outputId": "7664eda1-6ce6-4faa-f877-1f33f7dac2a9"
      },
      "outputs": [
        {
          "output_type": "stream",
          "name": "stdout",
          "text": [
            "its present\n"
          ]
        }
      ],
      "source": [
        "from typing import Text\n",
        "import re\n",
        "\n",
        "txt=\"the rain in spain\"\n",
        "y=re.search(\"^the.*spain$\",txt)\n",
        "if y:\n",
        "  print(\"its present\")\n",
        "else:\n",
        "  print(\"absent\")"
      ]
    },
    {
      "cell_type": "code",
      "source": [
        "import re\n",
        "\n",
        "#Check if the string starts with \"The\" and ends with \"Spain\":\n",
        "\n",
        "txt = \"The rain in Spain\"\n",
        "x = re.search(\"^The.*Spain$\", txt)\n",
        "\n",
        "if x:\n",
        "  print(\"YES! We have a match!\")\n",
        "else:\n",
        "  print(\"No match\")\n"
      ],
      "metadata": {
        "colab": {
          "base_uri": "https://localhost:8080/"
        },
        "id": "CJ7acfhRZUo5",
        "outputId": "1750ab90-5659-4384-80e6-7a5b66ffa670"
      },
      "execution_count": null,
      "outputs": [
        {
          "output_type": "stream",
          "name": "stdout",
          "text": [
            "YES! We have a match!\n"
          ]
        }
      ]
    },
    {
      "cell_type": "code",
      "source": [
        "import re\n",
        "\n",
        "#Check if the string starts with \"The\" and ends with \"Spain\":\n",
        "\n",
        "txt = \"The rain in Spain\"\n",
        "x = re.findall(\"ai\", txt)\n",
        "\n",
        "if x:\n",
        "  print(\"YES! We have a match!\")\n",
        "else:\n",
        "  print(\"No match\")\n"
      ],
      "metadata": {
        "colab": {
          "base_uri": "https://localhost:8080/"
        },
        "id": "nOJZGa1faGyf",
        "outputId": "881625d6-6925-4cc4-fd2c-57ccf9f43029"
      },
      "execution_count": null,
      "outputs": [
        {
          "output_type": "stream",
          "name": "stdout",
          "text": [
            "YES! We have a match!\n"
          ]
        }
      ]
    },
    {
      "cell_type": "code",
      "source": [
        "import re\n",
        "\n",
        "#Check if the string starts with \"The\" and ends with \"Spain\":\n",
        "\n",
        "txt = \"The rain in Spain\"\n",
        "x = re.findall(\"portugal\", txt)\n",
        "\n",
        "if x:\n",
        "  print(\"YES! We have a match!\")\n",
        "else:\n",
        "  print(\"No match\")\n"
      ],
      "metadata": {
        "colab": {
          "base_uri": "https://localhost:8080/"
        },
        "id": "hmAHLSGNamk5",
        "outputId": "023c8762-d6a3-4255-bbbe-7819c3d02406"
      },
      "execution_count": null,
      "outputs": [
        {
          "output_type": "stream",
          "name": "stdout",
          "text": [
            "No match\n"
          ]
        }
      ]
    },
    {
      "cell_type": "code",
      "source": [
        "import re\n",
        "\n",
        "txt = \"The rain in Spain of europe\"\n",
        "\n",
        "#Return a match at every NON white-space character:\n",
        "\n",
        "x = re.findall(\"\\s\", txt)\n",
        "\n",
        "print(x)\n",
        "\n",
        "if x:\n",
        "  print(\"Yes, there is at least one match!\")\n",
        "else:\n",
        "  print(\"No match\")"
      ],
      "metadata": {
        "colab": {
          "base_uri": "https://localhost:8080/"
        },
        "id": "-crkwu62a1YH",
        "outputId": "bee83815-dc92-449b-d445-a5eadf7934f4"
      },
      "execution_count": null,
      "outputs": [
        {
          "output_type": "stream",
          "name": "stdout",
          "text": [
            "[' ', ' ', ' ', ' ', ' ']\n",
            "Yes, there is at least one match!\n"
          ]
        }
      ]
    },
    {
      "cell_type": "code",
      "source": [
        "import re\n",
        "\n",
        "txt = \"The rain in Spain\"\n",
        "\n",
        "#Return a match at every NON white-space character:\n",
        "\n",
        "x = re.search(\"\\s\", txt)\n",
        "\n",
        "print(x)\n",
        "\n",
        "if x:\n",
        "  print(\"Yes, there is at least one match!\")\n",
        "else:\n",
        "  print(\"No match\")\n",
        "\n",
        "print(x.start())\n"
      ],
      "metadata": {
        "colab": {
          "base_uri": "https://localhost:8080/"
        },
        "id": "Hwvrijz5b8GR",
        "outputId": "6382383b-89d8-4122-b881-bb01fe422171"
      },
      "execution_count": null,
      "outputs": [
        {
          "output_type": "stream",
          "name": "stdout",
          "text": [
            "<re.Match object; span=(3, 4), match=' '>\n",
            "Yes, there is at least one match!\n",
            "3\n"
          ]
        }
      ]
    },
    {
      "cell_type": "code",
      "source": [],
      "metadata": {
        "id": "w36wX9ExcXMI"
      },
      "execution_count": null,
      "outputs": []
    }
  ]
}