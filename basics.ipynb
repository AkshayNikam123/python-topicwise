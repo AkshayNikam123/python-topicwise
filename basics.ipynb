{
  "nbformat": 4,
  "nbformat_minor": 0,
  "metadata": {
    "colab": {
      "provenance": [],
      "authorship_tag": "ABX9TyNA2MAFNowo/2P5TZB6OuaQ",
      "include_colab_link": true
    },
    "kernelspec": {
      "name": "python3",
      "display_name": "Python 3"
    },
    "language_info": {
      "name": "python"
    }
  },
  "cells": [
    {
      "cell_type": "markdown",
      "metadata": {
        "id": "view-in-github",
        "colab_type": "text"
      },
      "source": [
        "<a href=\"https://colab.research.google.com/github/AkshayNikam123/python-topicwise/blob/main/basics.ipynb\" target=\"_parent\"><img src=\"https://colab.research.google.com/assets/colab-badge.svg\" alt=\"Open In Colab\"/></a>"
      ]
    },
    {
      "cell_type": "markdown",
      "source": [
        "#basics\n"
      ],
      "metadata": {
        "id": "HGAP3PdvI9ov"
      }
    },
    {
      "cell_type": "code",
      "execution_count": null,
      "metadata": {
        "colab": {
          "base_uri": "https://localhost:8080/"
        },
        "id": "f5WvV_O0Bb4J",
        "outputId": "24c6f3e2-1227-42d7-f9ea-04487aa431ba"
      },
      "outputs": [
        {
          "output_type": "stream",
          "name": "stdout",
          "text": [
            "hello.Neurons\n"
          ]
        }
      ],
      "source": [
        "print(\"hello.Neurons\")"
      ]
    },
    {
      "cell_type": "code",
      "source": [
        "print(\"greetings from ineuron\")"
      ],
      "metadata": {
        "colab": {
          "base_uri": "https://localhost:8080/"
        },
        "id": "DuJXZ-NhBlGt",
        "outputId": "3eef044d-a84c-4041-9903-492d0cd735eb"
      },
      "execution_count": null,
      "outputs": [
        {
          "output_type": "stream",
          "name": "stdout",
          "text": [
            "greetings from ineuron\n"
          ]
        }
      ]
    },
    {
      "cell_type": "code",
      "source": [
        "\"good morning\""
      ],
      "metadata": {
        "colab": {
          "base_uri": "https://localhost:8080/",
          "height": 36
        },
        "id": "3EZ6kFEYBlV8",
        "outputId": "f3656411-513e-4f5e-fb34-63f249e1fa5a"
      },
      "execution_count": null,
      "outputs": [
        {
          "output_type": "execute_result",
          "data": {
            "text/plain": [
              "'good morning'"
            ],
            "application/vnd.google.colaboratory.intrinsic+json": {
              "type": "string"
            }
          },
          "metadata": {},
          "execution_count": 3
        }
      ]
    },
    {
      "cell_type": "code",
      "source": [
        "# say hi to sir"
      ],
      "metadata": {
        "id": "GnbpAFDmBlgv"
      },
      "execution_count": null,
      "outputs": []
    },
    {
      "cell_type": "code",
      "source": [
        "\"\"\"\n",
        "say hi\n",
        "to me\n",
        "\"\"\"\n"
      ],
      "metadata": {
        "colab": {
          "base_uri": "https://localhost:8080/",
          "height": 36
        },
        "id": "w9VYbYMcBlkW",
        "outputId": "f11c53a5-0da6-4df2-a850-43f666a64f27"
      },
      "execution_count": null,
      "outputs": [
        {
          "output_type": "execute_result",
          "data": {
            "text/plain": [
              "'\\nsay hi\\nto me\\n'"
            ],
            "application/vnd.google.colaboratory.intrinsic+json": {
              "type": "string"
            }
          },
          "metadata": {},
          "execution_count": 7
        }
      ]
    },
    {
      "cell_type": "code",
      "source": [
        "print('my name is \"akshay\"!')"
      ],
      "metadata": {
        "colab": {
          "base_uri": "https://localhost:8080/"
        },
        "id": "2uCy76XVBly0",
        "outputId": "8304797d-68a6-484a-e470-36f98988a1f5"
      },
      "execution_count": null,
      "outputs": [
        {
          "output_type": "stream",
          "name": "stdout",
          "text": [
            "my name is \"akshay\"!\n"
          ]
        }
      ]
    },
    {
      "cell_type": "code",
      "source": [
        "print(\"\"\"my name is \"akshay\" \"\"\")"
      ],
      "metadata": {
        "colab": {
          "base_uri": "https://localhost:8080/"
        },
        "id": "JDC9ZvP5FfEw",
        "outputId": "d509d1c5-16fc-40c2-9b19-c75b4048b078"
      },
      "execution_count": null,
      "outputs": [
        {
          "output_type": "stream",
          "name": "stdout",
          "text": [
            "my name is \"akshay\" \n"
          ]
        }
      ]
    },
    {
      "cell_type": "code",
      "source": [
        "123+425"
      ],
      "metadata": {
        "colab": {
          "base_uri": "https://localhost:8080/"
        },
        "id": "dOHibAq9GQBc",
        "outputId": "a5ba1cf4-1a86-4227-a803-877f253a7fec"
      },
      "execution_count": null,
      "outputs": [
        {
          "output_type": "execute_result",
          "data": {
            "text/plain": [
              "548"
            ]
          },
          "metadata": {},
          "execution_count": 16
        }
      ]
    },
    {
      "cell_type": "code",
      "source": [
        "123*234"
      ],
      "metadata": {
        "colab": {
          "base_uri": "https://localhost:8080/"
        },
        "id": "7mpQKDzLGg8W",
        "outputId": "38d84873-5194-435c-f526-c2d897395be0"
      },
      "execution_count": null,
      "outputs": [
        {
          "output_type": "execute_result",
          "data": {
            "text/plain": [
              "28782"
            ]
          },
          "metadata": {},
          "execution_count": 18
        }
      ]
    },
    {
      "cell_type": "code",
      "source": [
        "123/3"
      ],
      "metadata": {
        "colab": {
          "base_uri": "https://localhost:8080/"
        },
        "id": "SGoV6lmIGi7y",
        "outputId": "8c105618-aaeb-4526-df01-af50aa5f75da"
      },
      "execution_count": null,
      "outputs": [
        {
          "output_type": "execute_result",
          "data": {
            "text/plain": [
              "41.0"
            ]
          },
          "metadata": {},
          "execution_count": 19
        }
      ]
    },
    {
      "cell_type": "code",
      "source": [
        "123**2"
      ],
      "metadata": {
        "colab": {
          "base_uri": "https://localhost:8080/"
        },
        "id": "wbTGKGWxGmkV",
        "outputId": "bb96f334-6f33-4db8-c2fb-fd077e02bbc8"
      },
      "execution_count": null,
      "outputs": [
        {
          "output_type": "execute_result",
          "data": {
            "text/plain": [
              "15129"
            ]
          },
          "metadata": {},
          "execution_count": 20
        }
      ]
    },
    {
      "cell_type": "code",
      "source": [
        "123%2  # modulo opeartor gives remainder"
      ],
      "metadata": {
        "colab": {
          "base_uri": "https://localhost:8080/"
        },
        "id": "ILulTUbPGpAa",
        "outputId": "eddd605b-9448-4146-d5f5-df8c9de54743"
      },
      "execution_count": null,
      "outputs": [
        {
          "output_type": "execute_result",
          "data": {
            "text/plain": [
              "1"
            ]
          },
          "metadata": {},
          "execution_count": 22
        }
      ]
    },
    {
      "cell_type": "markdown",
      "source": [
        "#variables in python\n",
        "##varaiable in python\n"
      ],
      "metadata": {
        "id": "PGeLmulkH7LK"
      }
    },
    {
      "cell_type": "code",
      "source": [
        "x=10"
      ],
      "metadata": {
        "id": "3iWXo7dqGxgq"
      },
      "execution_count": null,
      "outputs": []
    },
    {
      "cell_type": "code",
      "source": [
        "print(x)"
      ],
      "metadata": {
        "colab": {
          "base_uri": "https://localhost:8080/"
        },
        "id": "8ab9U3HyINxh",
        "outputId": "5b7aa39f-cf00-429b-cf4e-64deb969fa97"
      },
      "execution_count": null,
      "outputs": [
        {
          "output_type": "stream",
          "name": "stdout",
          "text": [
            "10\n"
          ]
        }
      ]
    },
    {
      "cell_type": "code",
      "source": [
        "y=20\n",
        "print(y)"
      ],
      "metadata": {
        "colab": {
          "base_uri": "https://localhost:8080/"
        },
        "id": "HWR22v8VIQeL",
        "outputId": "7aab7447-80de-478f-83e5-10616cb115db"
      },
      "execution_count": null,
      "outputs": [
        {
          "output_type": "stream",
          "name": "stdout",
          "text": [
            "20\n"
          ]
        }
      ]
    },
    {
      "cell_type": "code",
      "source": [
        "x+y"
      ],
      "metadata": {
        "colab": {
          "base_uri": "https://localhost:8080/"
        },
        "id": "R6UyVkDdIVMw",
        "outputId": "7fc01c2c-d6e3-46fd-ec31-d7d663386a53"
      },
      "execution_count": null,
      "outputs": [
        {
          "output_type": "execute_result",
          "data": {
            "text/plain": [
              "30"
            ]
          },
          "metadata": {},
          "execution_count": 27
        }
      ]
    },
    {
      "cell_type": "code",
      "source": [
        "x/y"
      ],
      "metadata": {
        "colab": {
          "base_uri": "https://localhost:8080/"
        },
        "id": "F6U9hO5UIZtl",
        "outputId": "faf4f583-7b42-4a50-d01c-d8e470f9e776"
      },
      "execution_count": null,
      "outputs": [
        {
          "output_type": "execute_result",
          "data": {
            "text/plain": [
              "0.5"
            ]
          },
          "metadata": {},
          "execution_count": 28
        }
      ]
    },
    {
      "cell_type": "code",
      "source": [
        "#variable name should start with alphabet and doesnt contain any special character "
      ],
      "metadata": {
        "id": "w7xiFy71IeJb"
      },
      "execution_count": null,
      "outputs": []
    },
    {
      "cell_type": "code",
      "source": [
        "a=10"
      ],
      "metadata": {
        "id": "E16qmgGYIvL8"
      },
      "execution_count": null,
      "outputs": []
    },
    {
      "cell_type": "code",
      "source": [
        "@df=12"
      ],
      "metadata": {
        "colab": {
          "base_uri": "https://localhost:8080/",
          "height": 130
        },
        "id": "idwTZJTiI2iY",
        "outputId": "ebebf2bd-e882-446d-872b-21cca7147fbb"
      },
      "execution_count": null,
      "outputs": [
        {
          "output_type": "error",
          "ename": "SyntaxError",
          "evalue": "ignored",
          "traceback": [
            "\u001b[0;36m  File \u001b[0;32m\"<ipython-input-31-08f8065a1279>\"\u001b[0;36m, line \u001b[0;32m1\u001b[0m\n\u001b[0;31m    @df=12\u001b[0m\n\u001b[0m       ^\u001b[0m\n\u001b[0;31mSyntaxError\u001b[0m\u001b[0;31m:\u001b[0m invalid syntax\n"
          ]
        }
      ]
    },
    {
      "cell_type": "code",
      "source": [
        "_sum=10 #hidden variable"
      ],
      "metadata": {
        "id": "GpbYURwoI21U"
      },
      "execution_count": null,
      "outputs": []
    },
    {
      "cell_type": "code",
      "source": [
        "sum_f=24"
      ],
      "metadata": {
        "id": "uWblBaeJI3EJ"
      },
      "execution_count": null,
      "outputs": []
    },
    {
      "cell_type": "code",
      "source": [
        "_=10 #dummy variable"
      ],
      "metadata": {
        "id": "JhqZB5MAI3PP"
      },
      "execution_count": null,
      "outputs": []
    },
    {
      "cell_type": "markdown",
      "source": [
        "#data types"
      ],
      "metadata": {
        "id": "m5hrpMq7QLQe"
      }
    },
    {
      "cell_type": "code",
      "source": [
        "# integer\n",
        "a=7"
      ],
      "metadata": {
        "id": "iR6wbYSsI3XF"
      },
      "execution_count": null,
      "outputs": []
    },
    {
      "cell_type": "code",
      "source": [
        "type(a)"
      ],
      "metadata": {
        "colab": {
          "base_uri": "https://localhost:8080/"
        },
        "id": "_4BcpNlVI3bq",
        "outputId": "cb0f515a-044a-4777-825c-023c0a4835c1"
      },
      "execution_count": null,
      "outputs": [
        {
          "output_type": "execute_result",
          "data": {
            "text/plain": [
              "int"
            ]
          },
          "metadata": {},
          "execution_count": 37
        }
      ]
    },
    {
      "cell_type": "code",
      "source": [
        "b=77777"
      ],
      "metadata": {
        "id": "udhAaQR1I3iK"
      },
      "execution_count": null,
      "outputs": []
    },
    {
      "cell_type": "code",
      "source": [
        "type(a)"
      ],
      "metadata": {
        "colab": {
          "base_uri": "https://localhost:8080/"
        },
        "id": "BvLSVB1-I3nP",
        "outputId": "4dc6b8c6-a4f2-4720-fb80-1730dcea429d"
      },
      "execution_count": null,
      "outputs": [
        {
          "output_type": "execute_result",
          "data": {
            "text/plain": [
              "int"
            ]
          },
          "metadata": {},
          "execution_count": 39
        }
      ]
    },
    {
      "cell_type": "code",
      "source": [
        "#floats\n",
        "\n"
      ],
      "metadata": {
        "id": "IQnsFEx3QugQ"
      },
      "execution_count": null,
      "outputs": []
    },
    {
      "cell_type": "code",
      "source": [
        "tpi=3.14\n",
        "type(pi)"
      ],
      "metadata": {
        "colab": {
          "base_uri": "https://localhost:8080/"
        },
        "id": "wTv5yTtiQxJo",
        "outputId": "faeff4fa-1a23-4d8a-d905-c2449803242a"
      },
      "execution_count": null,
      "outputs": [
        {
          "output_type": "execute_result",
          "data": {
            "text/plain": [
              "float"
            ]
          },
          "metadata": {},
          "execution_count": 44
        }
      ]
    },
    {
      "cell_type": "code",
      "source": [
        "pi=22/7\n",
        "type(pi)"
      ],
      "metadata": {
        "colab": {
          "base_uri": "https://localhost:8080/"
        },
        "id": "8daxr27eQxPY",
        "outputId": "226a1f21-b853-4182-9a0f-9abda5333706"
      },
      "execution_count": null,
      "outputs": [
        {
          "output_type": "execute_result",
          "data": {
            "text/plain": [
              "float"
            ]
          },
          "metadata": {},
          "execution_count": 45
        }
      ]
    },
    {
      "cell_type": "code",
      "source": [
        "#complex number\n"
      ],
      "metadata": {
        "id": "LOLe1n-OQxS1"
      },
      "execution_count": null,
      "outputs": []
    },
    {
      "cell_type": "code",
      "source": [
        "d=x+3j"
      ],
      "metadata": {
        "id": "R9c5oYeHQxWf"
      },
      "execution_count": null,
      "outputs": []
    },
    {
      "cell_type": "code",
      "source": [
        "type(d)"
      ],
      "metadata": {
        "colab": {
          "base_uri": "https://localhost:8080/"
        },
        "id": "crHatCsvQxaX",
        "outputId": "8f896ad6-bd14-4ca9-c74b-4145afa52e47"
      },
      "execution_count": null,
      "outputs": [
        {
          "output_type": "execute_result",
          "data": {
            "text/plain": [
              "complex"
            ]
          },
          "metadata": {},
          "execution_count": 50
        }
      ]
    },
    {
      "cell_type": "code",
      "source": [
        "d.real"
      ],
      "metadata": {
        "colab": {
          "base_uri": "https://localhost:8080/"
        },
        "id": "lW7USnRXQxeh",
        "outputId": "b212500c-ad4f-46fd-9e69-247ec3d2eb76"
      },
      "execution_count": null,
      "outputs": [
        {
          "output_type": "execute_result",
          "data": {
            "text/plain": [
              "10.0"
            ]
          },
          "metadata": {},
          "execution_count": 51
        }
      ]
    },
    {
      "cell_type": "code",
      "source": [
        "d.imag"
      ],
      "metadata": {
        "colab": {
          "base_uri": "https://localhost:8080/"
        },
        "id": "fCcVy5ceQxiX",
        "outputId": "45d186c2-d622-4657-caba-f0bcc8b5fdd2"
      },
      "execution_count": null,
      "outputs": [
        {
          "output_type": "execute_result",
          "data": {
            "text/plain": [
              "3.0"
            ]
          },
          "metadata": {},
          "execution_count": 52
        }
      ]
    },
    {
      "cell_type": "code",
      "source": [],
      "metadata": {
        "id": "em0617kNSVap"
      },
      "execution_count": null,
      "outputs": []
    },
    {
      "cell_type": "markdown",
      "source": [
        "#dynamic typing"
      ],
      "metadata": {
        "id": "tq9vtIaLSdo4"
      }
    },
    {
      "cell_type": "code",
      "source": [
        "a=22 # if print not put it will take last value only\n",
        "print(type(a))\n",
        "a=22.2\n",
        "print(type(a))\n",
        "a=\"akshay\"\n",
        "print(type(a))"
      ],
      "metadata": {
        "colab": {
          "base_uri": "https://localhost:8080/"
        },
        "id": "Ady_3ZdKSk4v",
        "outputId": "69bfc4a4-f1d7-4a70-e2af-aa0bc2d7dbda"
      },
      "execution_count": null,
      "outputs": [
        {
          "output_type": "stream",
          "name": "stdout",
          "text": [
            "<class 'int'>\n",
            "<class 'float'>\n",
            "<class 'str'>\n"
          ]
        }
      ]
    },
    {
      "cell_type": "code",
      "source": [
        "print(a) #python takes last value"
      ],
      "metadata": {
        "colab": {
          "base_uri": "https://localhost:8080/"
        },
        "id": "AyoJpTXOS8UX",
        "outputId": "22eb9c45-74d5-4ae0-bfcd-44a0fc1f97f7"
      },
      "execution_count": null,
      "outputs": [
        {
          "output_type": "stream",
          "name": "stdout",
          "text": [
            "22.2\n"
          ]
        }
      ]
    },
    {
      "cell_type": "code",
      "source": [],
      "metadata": {
        "id": "M82MMC3-TG9U"
      },
      "execution_count": null,
      "outputs": []
    },
    {
      "cell_type": "markdown",
      "source": [
        "#Strong typing"
      ],
      "metadata": {
        "id": "cKUCb0xJTqdl"
      }
    },
    {
      "cell_type": "code",
      "source": [
        "#same data type\n",
        "\"akshay \" + \"nikam\""
      ],
      "metadata": {
        "colab": {
          "base_uri": "https://localhost:8080/",
          "height": 36
        },
        "id": "cab7aLViTu9j",
        "outputId": "34579047-d212-4c76-f920-4de112f579c4"
      },
      "execution_count": null,
      "outputs": [
        {
          "output_type": "execute_result",
          "data": {
            "text/plain": [
              "'akshay nikam'"
            ],
            "application/vnd.google.colaboratory.intrinsic+json": {
              "type": "string"
            }
          },
          "metadata": {},
          "execution_count": 58
        }
      ]
    },
    {
      "cell_type": "code",
      "source": [
        "\"22\"+\"22\""
      ],
      "metadata": {
        "colab": {
          "base_uri": "https://localhost:8080/",
          "height": 36
        },
        "id": "Oh7MeKA3UJqt",
        "outputId": "ea06a329-e598-4391-df90-45a89903e0f3"
      },
      "execution_count": null,
      "outputs": [
        {
          "output_type": "execute_result",
          "data": {
            "text/plain": [
              "'2222'"
            ],
            "application/vnd.google.colaboratory.intrinsic+json": {
              "type": "string"
            }
          },
          "metadata": {},
          "execution_count": 59
        }
      ]
    },
    {
      "cell_type": "code",
      "source": [
        "lan=\"python\"\n",
        "print(\"hi welcome to class of \"+ lan +\" language\")"
      ],
      "metadata": {
        "colab": {
          "base_uri": "https://localhost:8080/"
        },
        "id": "xWGCpm0_UYt9",
        "outputId": "f33c0204-0571-47b5-9e5a-358379b75289"
      },
      "execution_count": null,
      "outputs": [
        {
          "output_type": "stream",
          "name": "stdout",
          "text": [
            "hi welcome to class of python language\n"
          ]
        }
      ]
    },
    {
      "cell_type": "code",
      "source": [
        "lan=\"python\" #mostly used method\n",
        "print(f\"hi welcome to class of {lan} language\")"
      ],
      "metadata": {
        "colab": {
          "base_uri": "https://localhost:8080/"
        },
        "id": "F8aR68tNV3WI",
        "outputId": "54728b8c-90ac-415c-db6c-6bf7caeba701"
      },
      "execution_count": null,
      "outputs": [
        {
          "output_type": "stream",
          "name": "stdout",
          "text": [
            "hi welcome to class of python language\n"
          ]
        }
      ]
    },
    {
      "cell_type": "code",
      "source": [
        "lan=\"python\" \n",
        "print(\"hi welcome to class of {lan} language\")"
      ],
      "metadata": {
        "colab": {
          "base_uri": "https://localhost:8080/"
        },
        "id": "BkDGZ85DWDN6",
        "outputId": "5bac2833-7d2d-49c2-8c5f-1b2df6b89bf9"
      },
      "execution_count": null,
      "outputs": [
        {
          "output_type": "stream",
          "name": "stdout",
          "text": [
            "hi welcome to class of {lan} language\n"
          ]
        }
      ]
    },
    {
      "cell_type": "code",
      "source": [
        "lan=\"python\" #old method\n",
        "print(\"hi welcome to class of {} language\".format(lan))"
      ],
      "metadata": {
        "colab": {
          "base_uri": "https://localhost:8080/"
        },
        "id": "N7LebCafWSVt",
        "outputId": "13ef0636-b7c3-4818-819a-1409935c5b0d"
      },
      "execution_count": null,
      "outputs": [
        {
          "output_type": "stream",
          "name": "stdout",
          "text": [
            "hi welcome to class of python language\n"
          ]
        }
      ]
    },
    {
      "cell_type": "code",
      "source": [
        "a=22\n",
        "b=33\n",
        "c=a+b\n",
        "print(f\"sum of two no a:{a} and b:{b} is {c}\")"
      ],
      "metadata": {
        "colab": {
          "base_uri": "https://localhost:8080/"
        },
        "id": "SHbJLlXSWhLq",
        "outputId": "db5b5e1a-4c9d-4e57-d17d-b2baa143536c"
      },
      "execution_count": null,
      "outputs": [
        {
          "output_type": "stream",
          "name": "stdout",
          "text": [
            "sum of two no a:22 and b:33 is 55\n"
          ]
        }
      ]
    },
    {
      "cell_type": "code",
      "source": [
        "a=True\n",
        "b=False\n",
        "print(type(a))\n",
        "print(type(b))"
      ],
      "metadata": {
        "colab": {
          "base_uri": "https://localhost:8080/"
        },
        "id": "lI36i2uYXxOB",
        "outputId": "b1573133-7a4d-49b9-9f1d-eb0f4bd58d3c"
      },
      "execution_count": null,
      "outputs": [
        {
          "output_type": "stream",
          "name": "stdout",
          "text": [
            "<class 'bool'>\n",
            "<class 'bool'>\n"
          ]
        }
      ]
    },
    {
      "cell_type": "code",
      "source": [
        "a=23\n",
        "b=45\n",
        "a<b"
      ],
      "metadata": {
        "colab": {
          "base_uri": "https://localhost:8080/"
        },
        "id": "fHBRpgHIX_90",
        "outputId": "6d95f77c-b12b-492b-9394-204e6590ea1c"
      },
      "execution_count": null,
      "outputs": [
        {
          "output_type": "execute_result",
          "data": {
            "text/plain": [
              "True"
            ]
          },
          "metadata": {},
          "execution_count": 70
        }
      ]
    },
    {
      "cell_type": "code",
      "source": [],
      "metadata": {
        "id": "PxAGSO4rYhUS"
      },
      "execution_count": null,
      "outputs": []
    }
  ]
}