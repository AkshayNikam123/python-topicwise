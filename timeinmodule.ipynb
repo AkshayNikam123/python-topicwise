{
  "nbformat": 4,
  "nbformat_minor": 0,
  "metadata": {
    "colab": {
      "provenance": [],
      "authorship_tag": "ABX9TyNhCzQZbk7ByT2Hw+HyYtQL",
      "include_colab_link": true
    },
    "kernelspec": {
      "name": "python3",
      "display_name": "Python 3"
    },
    "language_info": {
      "name": "python"
    }
  },
  "cells": [
    {
      "cell_type": "markdown",
      "metadata": {
        "id": "view-in-github",
        "colab_type": "text"
      },
      "source": [
        "<a href=\"https://colab.research.google.com/github/AkshayNikam123/python-topicwise/blob/main/timeinmodule.ipynb\" target=\"_parent\"><img src=\"https://colab.research.google.com/assets/colab-badge.svg\" alt=\"Open In Colab\"/></a>"
      ]
    },
    {
      "cell_type": "code",
      "execution_count": null,
      "metadata": {
        "id": "--xeQHRoOC0K"
      },
      "outputs": [],
      "source": [
        "import time"
      ]
    },
    {
      "cell_type": "code",
      "source": [
        "intial=time.time()\n",
        "i=0\n",
        "while i< 3:\n",
        "  print(\"om\")\n",
        "  i+=1\n",
        "print(time.time()-intial)"
      ],
      "metadata": {
        "colab": {
          "base_uri": "https://localhost:8080/"
        },
        "id": "UzyprE-RO7W6",
        "outputId": "669b63d4-d904-4669-969f-94203e236d1a"
      },
      "execution_count": null,
      "outputs": [
        {
          "output_type": "stream",
          "name": "stdout",
          "text": [
            "om\n",
            "om\n",
            "om\n",
            "0.00025916099548339844\n"
          ]
        }
      ]
    },
    {
      "cell_type": "code",
      "source": [
        "intial=time.time()\n",
        "i=0\n",
        "while i< 3:\n",
        "  print(\"om\")\n",
        "  i+=1\n",
        "  time.sleep(5)\n",
        "print(time.time()-intial)"
      ],
      "metadata": {
        "colab": {
          "base_uri": "https://localhost:8080/"
        },
        "id": "8jsvXekeSlRE",
        "outputId": "a85c9778-17f8-470c-c46f-e4d32f67737e"
      },
      "execution_count": null,
      "outputs": [
        {
          "output_type": "stream",
          "name": "stdout",
          "text": [
            "om\n",
            "om\n",
            "om\n",
            "15.012460231781006\n"
          ]
        }
      ]
    },
    {
      "cell_type": "code",
      "source": [
        "initial=time.time()\n",
        "for i in range(3):\n",
        "  print(\"om\")\n",
        "\n",
        "print(time.time()-initial)"
      ],
      "metadata": {
        "colab": {
          "base_uri": "https://localhost:8080/"
        },
        "id": "M01lGyrzPX6u",
        "outputId": "4bddb57c-e76b-421d-8313-66c035ce35fb"
      },
      "execution_count": null,
      "outputs": [
        {
          "output_type": "stream",
          "name": "stdout",
          "text": [
            "om\n",
            "om\n",
            "om\n",
            "0.00020313262939453125\n"
          ]
        }
      ]
    },
    {
      "cell_type": "code",
      "source": [
        "initial=time.time()\n",
        "for i in range(3):\n",
        "  print(\"om\")\n",
        "\n",
        "print(time.time()-initial)"
      ],
      "metadata": {
        "colab": {
          "base_uri": "https://localhost:8080/"
        },
        "id": "zL2XLC4bP99I",
        "outputId": "50d7bd9c-6e1f-496e-c228-4e65c63c3436"
      },
      "execution_count": null,
      "outputs": [
        {
          "output_type": "stream",
          "name": "stdout",
          "text": [
            "om\n",
            "om\n",
            "om\n",
            "0.0012760162353515625\n"
          ]
        }
      ]
    },
    {
      "cell_type": "code",
      "source": [
        "localtime=time.asctime(time.localtime(time.time()))\n",
        "print(localtime)"
      ],
      "metadata": {
        "colab": {
          "base_uri": "https://localhost:8080/"
        },
        "id": "uLHEy6VPRhl1",
        "outputId": "731c4900-30d2-4514-dc2f-3a93eba4df2f"
      },
      "execution_count": null,
      "outputs": [
        {
          "output_type": "stream",
          "name": "stdout",
          "text": [
            "Thu Jan  5 09:33:17 2023\n"
          ]
        }
      ]
    },
    {
      "cell_type": "code",
      "source": [
        "a=time.localtime(time.time())\n",
        "print(a)"
      ],
      "metadata": {
        "colab": {
          "base_uri": "https://localhost:8080/"
        },
        "id": "tJbJ3Dk_Rw8L",
        "outputId": "f0b3a2ca-f926-4fa0-85ce-0dac07924682"
      },
      "execution_count": null,
      "outputs": [
        {
          "output_type": "stream",
          "name": "stdout",
          "text": [
            "time.struct_time(tm_year=2023, tm_mon=1, tm_mday=5, tm_hour=9, tm_min=34, tm_sec=53, tm_wday=3, tm_yday=5, tm_isdst=0)\n"
          ]
        }
      ]
    },
    {
      "cell_type": "code",
      "source": [
        "import datetime"
      ],
      "metadata": {
        "id": "b8-_WKqFSIyP"
      },
      "execution_count": null,
      "outputs": []
    },
    {
      "cell_type": "code",
      "source": [
        "a=datetime.datetime.now()\n",
        "print(a)"
      ],
      "metadata": {
        "colab": {
          "base_uri": "https://localhost:8080/"
        },
        "id": "LCs1NqCnTQWq",
        "outputId": "b16c11e7-3bd3-4461-ef27-d89c1fcc281d"
      },
      "execution_count": null,
      "outputs": [
        {
          "output_type": "stream",
          "name": "stdout",
          "text": [
            "2023-01-05 09:40:48.855290\n"
          ]
        }
      ]
    },
    {
      "cell_type": "code",
      "source": [
        "print(a.year)"
      ],
      "metadata": {
        "colab": {
          "base_uri": "https://localhost:8080/"
        },
        "id": "E0u--GPhTaxP",
        "outputId": "f76f9584-fa91-4d13-da52-216e0340a866"
      },
      "execution_count": null,
      "outputs": [
        {
          "output_type": "stream",
          "name": "stdout",
          "text": [
            "2023\n"
          ]
        }
      ]
    },
    {
      "cell_type": "code",
      "source": [
        "print(a.strftime(\"%A\"))"
      ],
      "metadata": {
        "colab": {
          "base_uri": "https://localhost:8080/"
        },
        "id": "xXaSm_oATtXi",
        "outputId": "f5f3f9b1-03e2-4d8a-e9eb-ed9a1dd583a8"
      },
      "execution_count": null,
      "outputs": [
        {
          "output_type": "stream",
          "name": "stdout",
          "text": [
            "Thursday\n"
          ]
        }
      ]
    },
    {
      "cell_type": "code",
      "source": [
        "x=datetime.datetime(2023, 0o1, 0o5)\n",
        "print(x)"
      ],
      "metadata": {
        "colab": {
          "base_uri": "https://localhost:8080/"
        },
        "id": "yrP8NEInT3UU",
        "outputId": "4d062815-e56b-4314-fe27-3747a2141c97"
      },
      "execution_count": null,
      "outputs": [
        {
          "output_type": "stream",
          "name": "stdout",
          "text": [
            "2023-01-05 00:00:00\n"
          ]
        }
      ]
    },
    {
      "cell_type": "code",
      "source": [
        "print(x.strftime(\"%b\"))"
      ],
      "metadata": {
        "colab": {
          "base_uri": "https://localhost:8080/"
        },
        "id": "YIDCorihUcim",
        "outputId": "2915d394-c251-470d-fab6-7a504d73a976"
      },
      "execution_count": null,
      "outputs": [
        {
          "output_type": "stream",
          "name": "stdout",
          "text": [
            "Jan\n"
          ]
        }
      ]
    },
    {
      "cell_type": "code",
      "source": [
        "\"\"\"%a\tWeekday, short version\tWed\t\n",
        "%A\tWeekday, full version\tWednesday\t\n",
        "%w\tWeekday as a number 0-6, 0 is Sunday\t3\t\n",
        "%d\tDay of month 01-31\t31\t\n",
        "%b\tMonth name, short version\tDec\t\n",
        "%B\tMonth name, full version\tDecember\t\n",
        "%m\tMonth as a number 01-12\t12\t\n",
        "%y\tYear, short version, without century\t18\t\n",
        "%Y\tYear, full version\t2018\t\n",
        "%H\tHour 00-23\t17\t\n",
        "%I\tHour 00-12\t05\t\n",
        "%p\tAM/PM\tPM\t\n",
        "%M\tMinute 00-59\t41\t\n",
        "%S\tSecond 00-59\t08\t\n",
        "%f\tMicrosecond 000000-999999\t548513\t\n",
        "%z\tUTC offset\t+0100\t\n",
        "%Z\tTimezone\tCST\t\n",
        "%j\tDay number of year 001-366\t365\t\n",
        "%U\tWeek number of year, Sunday as the first day of week, 00-53\t52\t\n",
        "%W\tWeek number of year, Monday as the first day of week, 00-53\t52\t\n",
        "%c\tLocal version of date and time\tMon Dec 31 17:41:00 2018\t\n",
        "%C\tCentury\t20\t\n",
        "%x\tLocal version of date\t12/31/18\t\n",
        "%X\tLocal version of time\t17:41:00\t\n",
        "%%\tA % character\t%\t\n",
        "%G\tISO 8601 year\t2018\t\n",
        "%u\tISO 8601 weekday (1-7)\t1\t\n",
        "%V\tISO 8601 weeknumber (01-53)\t01\"\"\"\t\n"
      ],
      "metadata": {
        "colab": {
          "base_uri": "https://localhost:8080/",
          "height": 157
        },
        "id": "J4FnWkniVHar",
        "outputId": "e0ff3922-da61-4e14-a6a1-5655294838ee"
      },
      "execution_count": null,
      "outputs": [
        {
          "output_type": "execute_result",
          "data": {
            "text/plain": [
              "'%a\\tWeekday, short version\\tWed\\t\\n%A\\tWeekday, full version\\tWednesday\\t\\n%w\\tWeekday as a number 0-6, 0 is Sunday\\t3\\t\\n%d\\tDay of month 01-31\\t31\\t\\n%b\\tMonth name, short version\\tDec\\t\\n%B\\tMonth name, full version\\tDecember\\t\\n%m\\tMonth as a number 01-12\\t12\\t\\n%y\\tYear, short version, without century\\t18\\t\\n%Y\\tYear, full version\\t2018\\t\\n%H\\tHour 00-23\\t17\\t\\n%I\\tHour 00-12\\t05\\t\\n%p\\tAM/PM\\tPM\\t\\n%M\\tMinute 00-59\\t41\\t\\n%S\\tSecond 00-59\\t08\\t\\n%f\\tMicrosecond 000000-999999\\t548513\\t\\n%z\\tUTC offset\\t+0100\\t\\n%Z\\tTimezone\\tCST\\t\\n%j\\tDay number of year 001-366\\t365\\t\\n%U\\tWeek number of year, Sunday as the first day of week, 00-53\\t52\\t\\n%W\\tWeek number of year, Monday as the first day of week, 00-53\\t52\\t\\n%c\\tLocal version of date and time\\tMon Dec 31 17:41:00 2018\\t\\n%C\\tCentury\\t20\\t\\n%x\\tLocal version of date\\t12/31/18\\t\\n%X\\tLocal version of time\\t17:41:00\\t\\n%%\\tA % character\\t%\\t\\n%G\\tISO 8601 year\\t2018\\t\\n%u\\tISO 8601 weekday (1-7)\\t1\\t\\n%V\\tISO 8601 weeknumber (01-53)\\t01'"
            ],
            "application/vnd.google.colaboratory.intrinsic+json": {
              "type": "string"
            }
          },
          "metadata": {},
          "execution_count": 29
        }
      ]
    },
    {
      "cell_type": "code",
      "source": [],
      "metadata": {
        "id": "1a7LertGVyJP"
      },
      "execution_count": null,
      "outputs": []
    }
  ]
}