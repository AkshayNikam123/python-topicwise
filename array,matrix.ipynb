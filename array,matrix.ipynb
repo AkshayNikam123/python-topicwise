{
  "nbformat": 4,
  "nbformat_minor": 0,
  "metadata": {
    "colab": {
      "provenance": [],
      "authorship_tag": "ABX9TyMvUCETBEhXgMGFa+J178Ve",
      "include_colab_link": true
    },
    "kernelspec": {
      "name": "python3",
      "display_name": "Python 3"
    },
    "language_info": {
      "name": "python"
    }
  },
  "cells": [
    {
      "cell_type": "markdown",
      "metadata": {
        "id": "view-in-github",
        "colab_type": "text"
      },
      "source": [
        "<a href=\"https://colab.research.google.com/github/AkshayNikam123/python-topicwise/blob/main/array%2Cmatrix.ipynb\" target=\"_parent\"><img src=\"https://colab.research.google.com/assets/colab-badge.svg\" alt=\"Open In Colab\"/></a>"
      ]
    },
    {
      "cell_type": "code",
      "execution_count": null,
      "metadata": {
        "id": "lsBXyaroR16B"
      },
      "outputs": [],
      "source": [
        "from array import *"
      ]
    },
    {
      "cell_type": "code",
      "source": [
        "vals=array('i',[2,3,4,5])\n",
        "print(vals)"
      ],
      "metadata": {
        "colab": {
          "base_uri": "https://localhost:8080/"
        },
        "id": "az3ldCtRSFF9",
        "outputId": "b1ac3347-448e-40f9-b531-5a9eecface9c"
      },
      "execution_count": null,
      "outputs": [
        {
          "output_type": "stream",
          "name": "stdout",
          "text": [
            "array('i', [2, 3, 4, 5])\n"
          ]
        }
      ]
    },
    {
      "cell_type": "code",
      "source": [
        "vals=array('i',[2,3.5,4,5]) #i is for integer\n",
        "print(vals)"
      ],
      "metadata": {
        "colab": {
          "base_uri": "https://localhost:8080/",
          "height": 184
        },
        "id": "UYaNPxhHSX5Y",
        "outputId": "66354b8f-e3ba-4f1c-c93c-447c05cc0de2"
      },
      "execution_count": null,
      "outputs": [
        {
          "output_type": "error",
          "ename": "TypeError",
          "evalue": "ignored",
          "traceback": [
            "\u001b[0;31m---------------------------------------------------------------------------\u001b[0m",
            "\u001b[0;31mTypeError\u001b[0m                                 Traceback (most recent call last)",
            "\u001b[0;32m<ipython-input-4-da9b65ce1a99>\u001b[0m in \u001b[0;36m<module>\u001b[0;34m\u001b[0m\n\u001b[0;32m----> 1\u001b[0;31m \u001b[0mvals\u001b[0m\u001b[0;34m=\u001b[0m\u001b[0marray\u001b[0m\u001b[0;34m(\u001b[0m\u001b[0;34m'i'\u001b[0m\u001b[0;34m,\u001b[0m\u001b[0;34m[\u001b[0m\u001b[0;36m2\u001b[0m\u001b[0;34m,\u001b[0m\u001b[0;36m3.5\u001b[0m\u001b[0;34m,\u001b[0m\u001b[0;36m4\u001b[0m\u001b[0;34m,\u001b[0m\u001b[0;36m5\u001b[0m\u001b[0;34m]\u001b[0m\u001b[0;34m)\u001b[0m \u001b[0;31m#i is for integer\u001b[0m\u001b[0;34m\u001b[0m\u001b[0;34m\u001b[0m\u001b[0m\n\u001b[0m\u001b[1;32m      2\u001b[0m \u001b[0mprint\u001b[0m\u001b[0;34m(\u001b[0m\u001b[0mvals\u001b[0m\u001b[0;34m)\u001b[0m\u001b[0;34m\u001b[0m\u001b[0;34m\u001b[0m\u001b[0m\n",
            "\u001b[0;31mTypeError\u001b[0m: integer argument expected, got float"
          ]
        }
      ]
    },
    {
      "cell_type": "code",
      "source": [
        "vals=array('i',[-2,3,4,-5])\n",
        "print(vals)"
      ],
      "metadata": {
        "colab": {
          "base_uri": "https://localhost:8080/"
        },
        "id": "f5hfGOlPSyrA",
        "outputId": "03297a20-245f-4dd8-bdc8-d9d6a103143d"
      },
      "execution_count": null,
      "outputs": [
        {
          "output_type": "stream",
          "name": "stdout",
          "text": [
            "array('i', [-2, 3, 4, -5])\n"
          ]
        }
      ]
    },
    {
      "cell_type": "code",
      "source": [
        "vals=array('I',[2,3,4,5])\n",
        "print(vals)"
      ],
      "metadata": {
        "colab": {
          "base_uri": "https://localhost:8080/"
        },
        "id": "oI5SYY0oS4u9",
        "outputId": "19912651-bd04-42a2-e438-d5ae35b71864"
      },
      "execution_count": null,
      "outputs": [
        {
          "output_type": "stream",
          "name": "stdout",
          "text": [
            "array('I', [2, 3, 4, 5])\n"
          ]
        }
      ]
    },
    {
      "cell_type": "code",
      "source": [
        "vals=array('I',[-2,3,4,-15]) #I is only for positive int\n",
        "print(vals)"
      ],
      "metadata": {
        "colab": {
          "base_uri": "https://localhost:8080/",
          "height": 184
        },
        "id": "uEM35AR3S60s",
        "outputId": "28998466-5103-4959-f1ce-fdf3063b7960"
      },
      "execution_count": null,
      "outputs": [
        {
          "output_type": "error",
          "ename": "OverflowError",
          "evalue": "ignored",
          "traceback": [
            "\u001b[0;31m---------------------------------------------------------------------------\u001b[0m",
            "\u001b[0;31mOverflowError\u001b[0m                             Traceback (most recent call last)",
            "\u001b[0;32m<ipython-input-7-00c378c6302b>\u001b[0m in \u001b[0;36m<module>\u001b[0;34m\u001b[0m\n\u001b[0;32m----> 1\u001b[0;31m \u001b[0mvals\u001b[0m\u001b[0;34m=\u001b[0m\u001b[0marray\u001b[0m\u001b[0;34m(\u001b[0m\u001b[0;34m'I'\u001b[0m\u001b[0;34m,\u001b[0m\u001b[0;34m[\u001b[0m\u001b[0;34m-\u001b[0m\u001b[0;36m2\u001b[0m\u001b[0;34m,\u001b[0m\u001b[0;36m3\u001b[0m\u001b[0;34m,\u001b[0m\u001b[0;36m4\u001b[0m\u001b[0;34m,\u001b[0m\u001b[0;34m-\u001b[0m\u001b[0;36m15\u001b[0m\u001b[0;34m]\u001b[0m\u001b[0;34m)\u001b[0m\u001b[0;34m\u001b[0m\u001b[0;34m\u001b[0m\u001b[0m\n\u001b[0m\u001b[1;32m      2\u001b[0m \u001b[0mprint\u001b[0m\u001b[0;34m(\u001b[0m\u001b[0mvals\u001b[0m\u001b[0;34m)\u001b[0m\u001b[0;34m\u001b[0m\u001b[0;34m\u001b[0m\u001b[0m\n",
            "\u001b[0;31mOverflowError\u001b[0m: can't convert negative value to unsigned int"
          ]
        }
      ]
    },
    {
      "cell_type": "code",
      "source": [
        "print(vals.buffer_info()) #location,size"
      ],
      "metadata": {
        "colab": {
          "base_uri": "https://localhost:8080/"
        },
        "id": "GH7011_wS_ce",
        "outputId": "246792bb-75cb-4850-a9d6-ff46d0e2f0f2"
      },
      "execution_count": null,
      "outputs": [
        {
          "output_type": "stream",
          "name": "stdout",
          "text": [
            "(140049433684416, 4)\n"
          ]
        }
      ]
    },
    {
      "cell_type": "code",
      "source": [
        "vals=array('i',[2,3,4,15])\n",
        "vals.reverse()\n",
        "print(vals)"
      ],
      "metadata": {
        "colab": {
          "base_uri": "https://localhost:8080/"
        },
        "id": "tJzoYoyzTUPQ",
        "outputId": "2346798a-9c13-4264-b233-76dab7aee854"
      },
      "execution_count": null,
      "outputs": [
        {
          "output_type": "stream",
          "name": "stdout",
          "text": [
            "array('i', [15, 4, 3, 2])\n"
          ]
        }
      ]
    },
    {
      "cell_type": "code",
      "source": [
        "print(vals[2])"
      ],
      "metadata": {
        "colab": {
          "base_uri": "https://localhost:8080/"
        },
        "id": "-F3bidw-gva5",
        "outputId": "764e113c-c56a-413b-ee94-42fa867e6233"
      },
      "execution_count": null,
      "outputs": [
        {
          "output_type": "stream",
          "name": "stdout",
          "text": [
            "3\n"
          ]
        }
      ]
    },
    {
      "cell_type": "code",
      "source": [
        "for i in vals:\n",
        "  print(i)"
      ],
      "metadata": {
        "colab": {
          "base_uri": "https://localhost:8080/"
        },
        "id": "pDEZ06V5hoiI",
        "outputId": "71ee880e-7cad-4784-81e2-a34c4d06d478"
      },
      "execution_count": null,
      "outputs": [
        {
          "output_type": "stream",
          "name": "stdout",
          "text": [
            "15\n",
            "4\n",
            "3\n",
            "2\n"
          ]
        }
      ]
    },
    {
      "cell_type": "code",
      "source": [
        "newarray=array(vals.typecode,(a for a in vals)) #copy array\n",
        "for i in newarray:\n",
        "  print(i)"
      ],
      "metadata": {
        "colab": {
          "base_uri": "https://localhost:8080/"
        },
        "id": "9lXYG-P9hr1A",
        "outputId": "20dbaaab-56fa-47cb-dce9-1a302e1208a6"
      },
      "execution_count": null,
      "outputs": [
        {
          "output_type": "stream",
          "name": "stdout",
          "text": [
            "15\n",
            "4\n",
            "3\n",
            "2\n"
          ]
        }
      ]
    },
    {
      "cell_type": "code",
      "source": [
        "newarray1=array(vals.typecode,(a*a for a in vals))\n",
        "for i in newarray1:\n",
        "  print(i)"
      ],
      "metadata": {
        "colab": {
          "base_uri": "https://localhost:8080/"
        },
        "id": "ENIZCzLdiOek",
        "outputId": "dae6a65a-cf2c-45f4-f0cb-7ee5474dbd5c"
      },
      "execution_count": null,
      "outputs": [
        {
          "output_type": "stream",
          "name": "stdout",
          "text": [
            "225\n",
            "16\n",
            "9\n",
            "4\n"
          ]
        }
      ]
    },
    {
      "cell_type": "code",
      "source": [
        "i=0\n",
        "while i<len(newarray):\n",
        "  print(newarray[i])\n",
        "  i+=1"
      ],
      "metadata": {
        "colab": {
          "base_uri": "https://localhost:8080/"
        },
        "id": "2EFxIM3oigS0",
        "outputId": "5adbb50c-f11b-4e82-e893-5f2eb952d819"
      },
      "execution_count": null,
      "outputs": [
        {
          "output_type": "stream",
          "name": "stdout",
          "text": [
            "15\n",
            "4\n",
            "3\n",
            "2\n"
          ]
        }
      ]
    },
    {
      "cell_type": "code",
      "source": [
        "arr=array('i',[])\n",
        "n=int(input(\"enter the length of array\"))\n",
        "for i in range(n):\n",
        "  x=int(input(\"enter the value\"))\n",
        "  arr.append(x)\n",
        "\n",
        "print(arr)"
      ],
      "metadata": {
        "colab": {
          "base_uri": "https://localhost:8080/"
        },
        "id": "aY4etv6Zi5Nt",
        "outputId": "9896f4b5-4768-4fa8-8561-d86e3d1a936a"
      },
      "execution_count": null,
      "outputs": [
        {
          "output_type": "stream",
          "name": "stdout",
          "text": [
            "enter the length of array5\n",
            "enter the value23\n",
            "enter the value34\n",
            "enter the value55\n",
            "enter the value56\n",
            "enter the value56\n",
            "array('i', [23, 34, 55, 56, 56])\n"
          ]
        }
      ]
    },
    {
      "cell_type": "code",
      "source": [
        "var=int(input(\"enter the value for search\"))\n",
        "k=0\n",
        "for e in arr:\n",
        "  if e==var:\n",
        "    print(k)\n",
        "    break  \n",
        "  k+=1"
      ],
      "metadata": {
        "colab": {
          "base_uri": "https://localhost:8080/"
        },
        "id": "Yurh9Uzakx_m",
        "outputId": "9f14db7f-4b26-4aa2-b016-9b5c8e51d297"
      },
      "execution_count": null,
      "outputs": [
        {
          "output_type": "stream",
          "name": "stdout",
          "text": [
            "enter the value for search56\n",
            "3\n"
          ]
        }
      ]
    },
    {
      "cell_type": "code",
      "source": [
        "arr=array('i',[])\n",
        "n=int(input(\"enter the length of array\"))\n",
        "for i in range(n):\n",
        "  x=int(input(\"enter the value\"))\n",
        "  arr.append(x)\n",
        "\n",
        "print(arr)\n",
        "var=int(input(\"enter the value for search\"))\n",
        "k=0\n",
        "\"\"\"for e in arr:\n",
        "  if e==var:\n",
        "    print(k)\n",
        "    break  \n",
        "  k+=1\"\"\"\n",
        "\"or\"\n",
        "print(arr.index(var))"
      ],
      "metadata": {
        "colab": {
          "base_uri": "https://localhost:8080/"
        },
        "id": "EBsEouc6lstS",
        "outputId": "a29f4de2-f400-42e1-c866-e797157ef98d"
      },
      "execution_count": null,
      "outputs": [
        {
          "output_type": "stream",
          "name": "stdout",
          "text": [
            "enter the length of array4\n",
            "enter the value12\n",
            "enter the value23\n",
            "enter the value34\n",
            "enter the value45\n",
            "array('i', [12, 23, 34, 45])\n",
            "enter the value for search34\n",
            "2\n",
            "2\n"
          ]
        }
      ]
    },
    {
      "cell_type": "code",
      "source": [
        "from numpy import *\n",
        "\n",
        "arr=array([1,2,3,4])\n",
        "print(arr.dtype)"
      ],
      "metadata": {
        "colab": {
          "base_uri": "https://localhost:8080/"
        },
        "id": "RU-Y2LSDndhY",
        "outputId": "b56e03e6-e94f-4ddd-cf6b-038a6d2951e9"
      },
      "execution_count": null,
      "outputs": [
        {
          "output_type": "stream",
          "name": "stdout",
          "text": [
            "int64\n"
          ]
        }
      ]
    },
    {
      "cell_type": "code",
      "source": [
        "\n",
        "arr=array([1,2,3,4.0])\n",
        "print(arr.dtype)"
      ],
      "metadata": {
        "colab": {
          "base_uri": "https://localhost:8080/"
        },
        "id": "_eE3vm31o23T",
        "outputId": "87f27ce7-bbdc-42a1-b7b5-8ed4b9232cc8"
      },
      "execution_count": null,
      "outputs": [
        {
          "output_type": "stream",
          "name": "stdout",
          "text": [
            "float64\n"
          ]
        }
      ]
    },
    {
      "cell_type": "code",
      "source": [
        "\n",
        "arr=array([1,2,3,4],float)\n",
        "print(arr.dtype)"
      ],
      "metadata": {
        "colab": {
          "base_uri": "https://localhost:8080/"
        },
        "id": "d0cl9gI-pNNP",
        "outputId": "4639a5ec-1076-408e-8593-23fad2595028"
      },
      "execution_count": null,
      "outputs": [
        {
          "output_type": "stream",
          "name": "stdout",
          "text": [
            "float64\n"
          ]
        }
      ]
    },
    {
      "cell_type": "code",
      "source": [
        "\n",
        "arr=array([1,2,3,4.0],int)\n",
        "print(arr.dtype)"
      ],
      "metadata": {
        "colab": {
          "base_uri": "https://localhost:8080/"
        },
        "id": "VzJpOZsvpPbL",
        "outputId": "4dd22d69-b28c-4131-fd60-6237f91dde9b"
      },
      "execution_count": null,
      "outputs": [
        {
          "output_type": "stream",
          "name": "stdout",
          "text": [
            "int64\n"
          ]
        }
      ]
    },
    {
      "cell_type": "code",
      "source": [
        "#linspace()\n",
        "arr=linspace(0,16,15)\n",
        "print(arr)"
      ],
      "metadata": {
        "colab": {
          "base_uri": "https://localhost:8080/"
        },
        "id": "I91ohTaxpT3q",
        "outputId": "870a348d-49d8-49f7-a954-0a5ef6811a80"
      },
      "execution_count": null,
      "outputs": [
        {
          "output_type": "stream",
          "name": "stdout",
          "text": [
            "[ 0.          1.14285714  2.28571429  3.42857143  4.57142857  5.71428571\n",
            "  6.85714286  8.          9.14285714 10.28571429 11.42857143 12.57142857\n",
            " 13.71428571 14.85714286 16.        ]\n"
          ]
        }
      ]
    },
    {
      "cell_type": "code",
      "source": [
        "arr=linspace(0,16)\n",
        "print(arr)"
      ],
      "metadata": {
        "colab": {
          "base_uri": "https://localhost:8080/"
        },
        "id": "AtNHzXBHrk3I",
        "outputId": "c50d000a-24b6-49f9-c477-e905daf739d2"
      },
      "execution_count": null,
      "outputs": [
        {
          "output_type": "stream",
          "name": "stdout",
          "text": [
            "[ 0.          0.32653061  0.65306122  0.97959184  1.30612245  1.63265306\n",
            "  1.95918367  2.28571429  2.6122449   2.93877551  3.26530612  3.59183673\n",
            "  3.91836735  4.24489796  4.57142857  4.89795918  5.2244898   5.55102041\n",
            "  5.87755102  6.20408163  6.53061224  6.85714286  7.18367347  7.51020408\n",
            "  7.83673469  8.16326531  8.48979592  8.81632653  9.14285714  9.46938776\n",
            "  9.79591837 10.12244898 10.44897959 10.7755102  11.10204082 11.42857143\n",
            " 11.75510204 12.08163265 12.40816327 12.73469388 13.06122449 13.3877551\n",
            " 13.71428571 14.04081633 14.36734694 14.69387755 15.02040816 15.34693878\n",
            " 15.67346939 16.        ]\n"
          ]
        }
      ]
    },
    {
      "cell_type": "code",
      "source": [
        "arr=arange(1,15,5)\n",
        "print(arr)"
      ],
      "metadata": {
        "colab": {
          "base_uri": "https://localhost:8080/"
        },
        "id": "ijct7VS8sEEV",
        "outputId": "68209a63-4d10-4b75-c711-40e6d652e4ad"
      },
      "execution_count": null,
      "outputs": [
        {
          "output_type": "stream",
          "name": "stdout",
          "text": [
            "[ 1  6 11]\n"
          ]
        }
      ]
    },
    {
      "cell_type": "code",
      "source": [
        "arr=logspace(1,15,3)\n",
        "print(arr)"
      ],
      "metadata": {
        "colab": {
          "base_uri": "https://localhost:8080/"
        },
        "id": "BtruPyX7shxE",
        "outputId": "8d5716e5-39d8-44ca-e497-4f4ccdf78b6a"
      },
      "execution_count": null,
      "outputs": [
        {
          "output_type": "stream",
          "name": "stdout",
          "text": [
            "[1.e+01 1.e+08 1.e+15]\n"
          ]
        }
      ]
    },
    {
      "cell_type": "code",
      "source": [
        "arr=zeros(5)\n",
        "print(arr)"
      ],
      "metadata": {
        "colab": {
          "base_uri": "https://localhost:8080/"
        },
        "id": "y0Vsrg4ps6Bc",
        "outputId": "9fdc5d6b-7818-46b8-8b6a-1769b9a5dd9e"
      },
      "execution_count": null,
      "outputs": [
        {
          "output_type": "stream",
          "name": "stdout",
          "text": [
            "[0. 0. 0. 0. 0.]\n"
          ]
        }
      ]
    },
    {
      "cell_type": "code",
      "source": [
        "arr=zeros(5,int)\n",
        "print(arr)"
      ],
      "metadata": {
        "colab": {
          "base_uri": "https://localhost:8080/"
        },
        "id": "2RVn1x_pvQxx",
        "outputId": "7ab86af2-81fe-48e8-b6b5-d12b1bdfcac2"
      },
      "execution_count": null,
      "outputs": [
        {
          "output_type": "stream",
          "name": "stdout",
          "text": [
            "[0 0 0 0 0]\n"
          ]
        }
      ]
    },
    {
      "cell_type": "code",
      "source": [
        "arr=ones(5,int)\n",
        "print(arr)\n",
        "\n"
      ],
      "metadata": {
        "colab": {
          "base_uri": "https://localhost:8080/"
        },
        "id": "KW0hHof2vVdA",
        "outputId": "7df72bf7-6ff1-4f7e-a7b1-e398b4fd1cd4"
      },
      "execution_count": null,
      "outputs": [
        {
          "output_type": "stream",
          "name": "stdout",
          "text": [
            "[1 1 1 1 1]\n"
          ]
        }
      ]
    },
    {
      "cell_type": "code",
      "source": [
        "#"
      ],
      "metadata": {
        "id": "2hG6S0LOvdPf"
      },
      "execution_count": null,
      "outputs": []
    },
    {
      "cell_type": "code",
      "source": [
        "arr=array([1,2,3,4,5])\n",
        "arr=arr+5\n",
        "print(arr)"
      ],
      "metadata": {
        "colab": {
          "base_uri": "https://localhost:8080/"
        },
        "id": "Qy0wwHI4zQmh",
        "outputId": "9ca36d45-f87e-4bf8-be68-80cc8e0aceb2"
      },
      "execution_count": null,
      "outputs": [
        {
          "output_type": "stream",
          "name": "stdout",
          "text": [
            "[ 6  7  8  9 10]\n"
          ]
        }
      ]
    },
    {
      "cell_type": "code",
      "source": [
        "arr1=array([1,2,3,4,5])\n",
        "arr2=array([6,7,8,9,0])\n",
        "arr3=arr1+arr2\n",
        "print(arr3)\n"
      ],
      "metadata": {
        "colab": {
          "base_uri": "https://localhost:8080/"
        },
        "id": "um9XRSffzY6M",
        "outputId": "65c1c521-c124-46fa-f360-a8fa24d992ac"
      },
      "execution_count": null,
      "outputs": [
        {
          "output_type": "stream",
          "name": "stdout",
          "text": [
            "[ 7  9 11 13  5]\n"
          ]
        }
      ]
    },
    {
      "cell_type": "code",
      "source": [
        "from numpy import *\n",
        "print(sin(arr1))"
      ],
      "metadata": {
        "colab": {
          "base_uri": "https://localhost:8080/"
        },
        "id": "rJ9IUgvLzugX",
        "outputId": "7eec80a6-5f49-4a05-d87d-90d01495eeb2"
      },
      "execution_count": null,
      "outputs": [
        {
          "output_type": "stream",
          "name": "stdout",
          "text": [
            "[ 0.84147098  0.90929743  0.14112001 -0.7568025  -0.95892427]\n"
          ]
        }
      ]
    },
    {
      "cell_type": "code",
      "source": [
        "print(sqrt(arr2))"
      ],
      "metadata": {
        "colab": {
          "base_uri": "https://localhost:8080/"
        },
        "id": "Fc_ILiDfz54X",
        "outputId": "196c1a34-5891-4e36-b886-283d1607bd4d"
      },
      "execution_count": null,
      "outputs": [
        {
          "output_type": "stream",
          "name": "stdout",
          "text": [
            "[2.44948974 2.64575131 2.82842712 3.         0.        ]\n"
          ]
        }
      ]
    },
    {
      "cell_type": "code",
      "source": [
        "print(concatenate([arr1,arr2]))"
      ],
      "metadata": {
        "colab": {
          "base_uri": "https://localhost:8080/"
        },
        "id": "lTqcPZdRz92J",
        "outputId": "a0f8d60f-e35f-4925-f4be-c3bf26d34a07"
      },
      "execution_count": null,
      "outputs": [
        {
          "output_type": "stream",
          "name": "stdout",
          "text": [
            "[1 2 3 4 5 6 7 8 9 0]\n"
          ]
        }
      ]
    },
    {
      "cell_type": "code",
      "source": [
        "#copy array\n",
        "arr1=array([1,2,3,4])\n",
        "arr2=arr1\n",
        "print(arr2)"
      ],
      "metadata": {
        "colab": {
          "base_uri": "https://localhost:8080/"
        },
        "id": "QZrkOtZJ0ZTz",
        "outputId": "fc6af175-2524-43e0-c01e-7486a47fd51e"
      },
      "execution_count": null,
      "outputs": [
        {
          "output_type": "stream",
          "name": "stdout",
          "text": [
            "[1 2 3 4]\n"
          ]
        }
      ]
    },
    {
      "cell_type": "code",
      "source": [
        "print(id(arr1),id(arr2))"
      ],
      "metadata": {
        "colab": {
          "base_uri": "https://localhost:8080/"
        },
        "id": "cQCCVGXj1hI3",
        "outputId": "05ea7ab8-0aa9-4c48-9de8-fea272d514d3"
      },
      "execution_count": null,
      "outputs": [
        {
          "output_type": "stream",
          "name": "stdout",
          "text": [
            "140049219465360 140049219465360\n"
          ]
        }
      ]
    },
    {
      "cell_type": "code",
      "source": [
        "arr1=array([1,2,3,4])\n",
        "arr2=arr1.view() #view gives two different location to arrays\n",
        "print(arr2)\n",
        "print(id(arr1))\n",
        "print(id(arr2))"
      ],
      "metadata": {
        "colab": {
          "base_uri": "https://localhost:8080/"
        },
        "id": "MqCowzXS1nsY",
        "outputId": "17d18983-2f98-41bc-e29f-8de6ad7237b6"
      },
      "execution_count": null,
      "outputs": [
        {
          "output_type": "stream",
          "name": "stdout",
          "text": [
            "[1 2 3 4]\n",
            "140049220046448\n",
            "140049219529008\n"
          ]
        }
      ]
    },
    {
      "cell_type": "code",
      "source": [
        "arr1=array([1,2,3,4])\n",
        "arr2=arr1.view()\n",
        "arr1[1]=5   #shallow copy change both for\n",
        "print(arr2)\n",
        "print(id(arr1))\n",
        "print(id(arr2))"
      ],
      "metadata": {
        "colab": {
          "base_uri": "https://localhost:8080/"
        },
        "id": "PTUqbyVK1uRX",
        "outputId": "3bd2b966-146b-40fb-a25b-38c6a9f2bf82"
      },
      "execution_count": null,
      "outputs": [
        {
          "output_type": "stream",
          "name": "stdout",
          "text": [
            "[1 5 3 4]\n",
            "140049219465552\n",
            "140049219526896\n"
          ]
        }
      ]
    },
    {
      "cell_type": "code",
      "source": [
        "arr1=array([1,2,3,4])\n",
        "arr2=arr1.copy()   #deep copy no change in second array\n",
        "arr1[1]=6\n",
        "print(arr1)\n",
        "print(arr2)\n",
        "print(id(arr1))\n",
        "print(id(arr2))"
      ],
      "metadata": {
        "colab": {
          "base_uri": "https://localhost:8080/"
        },
        "id": "Z6I2sNV42SUn",
        "outputId": "7c1a49f9-16b0-4939-81c2-48e03f232221"
      },
      "execution_count": null,
      "outputs": [
        {
          "output_type": "stream",
          "name": "stdout",
          "text": [
            "[1 6 3 4]\n",
            "[1 2 3 4]\n",
            "140049219465360\n",
            "140049219529392\n"
          ]
        }
      ]
    },
    {
      "cell_type": "markdown",
      "source": [
        "#metrics"
      ],
      "metadata": {
        "id": "PkyDiaPZ3_oI"
      }
    },
    {
      "cell_type": "code",
      "source": [
        "arr1=array([\n",
        "    [1,2,3],[2,3,4]\n",
        "])\n",
        "print(arr1)"
      ],
      "metadata": {
        "colab": {
          "base_uri": "https://localhost:8080/"
        },
        "id": "SyeUW7lk2nm7",
        "outputId": "47f8977b-5e3c-4857-e789-08fe6144ddec"
      },
      "execution_count": null,
      "outputs": [
        {
          "output_type": "stream",
          "name": "stdout",
          "text": [
            "[[1 2 3]\n",
            " [2 3 4]]\n"
          ]
        }
      ]
    },
    {
      "cell_type": "code",
      "source": [
        "print(arr1.ndim)"
      ],
      "metadata": {
        "colab": {
          "base_uri": "https://localhost:8080/"
        },
        "id": "PbwTHEZw38_5",
        "outputId": "96d30bbd-9d87-4954-8dd9-70a15faf91d1"
      },
      "execution_count": null,
      "outputs": [
        {
          "output_type": "stream",
          "name": "stdout",
          "text": [
            "2\n"
          ]
        }
      ]
    },
    {
      "cell_type": "code",
      "source": [
        "print(arr1.shape)"
      ],
      "metadata": {
        "colab": {
          "base_uri": "https://localhost:8080/"
        },
        "id": "PdxBmoen4Pwk",
        "outputId": "1c529981-350d-4a20-cb67-58bd9986d15e"
      },
      "execution_count": null,
      "outputs": [
        {
          "output_type": "stream",
          "name": "stdout",
          "text": [
            "(2, 3)\n"
          ]
        }
      ]
    },
    {
      "cell_type": "code",
      "source": [
        "print(arr1.size)"
      ],
      "metadata": {
        "colab": {
          "base_uri": "https://localhost:8080/"
        },
        "id": "Q3A4YlK94SPJ",
        "outputId": "b05d1006-be91-47ee-8dca-6c9abfe5b842"
      },
      "execution_count": null,
      "outputs": [
        {
          "output_type": "stream",
          "name": "stdout",
          "text": [
            "6\n"
          ]
        }
      ]
    },
    {
      "cell_type": "code",
      "source": [
        "arr2=arr1.flatten()\n",
        "print(arr2)"
      ],
      "metadata": {
        "colab": {
          "base_uri": "https://localhost:8080/"
        },
        "id": "7nST3_Ia4aLt",
        "outputId": "5520358b-8301-4513-a532-aaf567af80cf"
      },
      "execution_count": null,
      "outputs": [
        {
          "output_type": "stream",
          "name": "stdout",
          "text": [
            "[1 2 3 2 3 4]\n"
          ]
        }
      ]
    },
    {
      "cell_type": "code",
      "source": [
        "arr3=arr2.reshape(2,2)"
      ],
      "metadata": {
        "colab": {
          "base_uri": "https://localhost:8080/",
          "height": 167
        },
        "id": "L3BgDgWI4fHQ",
        "outputId": "b89d6182-fe18-496e-fb8d-faf47602ddc9"
      },
      "execution_count": null,
      "outputs": [
        {
          "output_type": "error",
          "ename": "ValueError",
          "evalue": "ignored",
          "traceback": [
            "\u001b[0;31m---------------------------------------------------------------------------\u001b[0m",
            "\u001b[0;31mValueError\u001b[0m                                Traceback (most recent call last)",
            "\u001b[0;32m<ipython-input-88-ffdd027aa893>\u001b[0m in \u001b[0;36m<module>\u001b[0;34m\u001b[0m\n\u001b[0;32m----> 1\u001b[0;31m \u001b[0marr3\u001b[0m\u001b[0;34m=\u001b[0m\u001b[0marr2\u001b[0m\u001b[0;34m.\u001b[0m\u001b[0mreshape\u001b[0m\u001b[0;34m(\u001b[0m\u001b[0;36m2\u001b[0m\u001b[0;34m,\u001b[0m\u001b[0;36m2\u001b[0m\u001b[0;34m)\u001b[0m\u001b[0;34m\u001b[0m\u001b[0;34m\u001b[0m\u001b[0m\n\u001b[0m",
            "\u001b[0;31mValueError\u001b[0m: cannot reshape array of size 6 into shape (2,2)"
          ]
        }
      ]
    },
    {
      "cell_type": "code",
      "source": [
        "arr3=arr2.reshape(3,2)\n",
        "print(arr3)"
      ],
      "metadata": {
        "colab": {
          "base_uri": "https://localhost:8080/"
        },
        "id": "drjjPQe546aX",
        "outputId": "8c230d18-6552-4c8c-d097-93428ba12d60"
      },
      "execution_count": null,
      "outputs": [
        {
          "output_type": "stream",
          "name": "stdout",
          "text": [
            "[[1 2]\n",
            " [3 2]\n",
            " [3 4]]\n"
          ]
        }
      ]
    },
    {
      "cell_type": "code",
      "source": [
        "arr=array([1,2,3,4,5,6,7,8,9,0,12,34])\n",
        "arr1=arr.reshape(2,2,3)\n",
        "print(arr1)"
      ],
      "metadata": {
        "colab": {
          "base_uri": "https://localhost:8080/"
        },
        "id": "EP3nxCJh5AjF",
        "outputId": "6996db20-63c4-441a-8986-8be1a16b62b1"
      },
      "execution_count": null,
      "outputs": [
        {
          "output_type": "stream",
          "name": "stdout",
          "text": [
            "[[[ 1  2  3]\n",
            "  [ 4  5  6]]\n",
            "\n",
            " [[ 7  8  9]\n",
            "  [ 0 12 34]]]\n"
          ]
        }
      ]
    },
    {
      "cell_type": "code",
      "source": [
        "#matrix\n",
        "arr=array([\n",
        "    [1,2,3,4],\n",
        "    [2,3,4,5]\n",
        "])\n",
        "\n",
        "m=matrix(arr)\n",
        "print(m)"
      ],
      "metadata": {
        "colab": {
          "base_uri": "https://localhost:8080/"
        },
        "id": "pwn2ZL4G5qqX",
        "outputId": "7198e504-75c7-4243-fa0e-cf29bb3ddbd3"
      },
      "execution_count": null,
      "outputs": [
        {
          "output_type": "stream",
          "name": "stdout",
          "text": [
            "[[1 2 3 4]\n",
            " [2 3 4 5]]\n"
          ]
        }
      ]
    },
    {
      "cell_type": "code",
      "source": [
        "m=matrix('1,2,3;2,3,4;4,5,6')\n",
        "print(m)"
      ],
      "metadata": {
        "colab": {
          "base_uri": "https://localhost:8080/"
        },
        "id": "7RO-955P6hWO",
        "outputId": "293d54f6-effb-4fab-ee80-29cd3b998864"
      },
      "execution_count": null,
      "outputs": [
        {
          "output_type": "stream",
          "name": "stdout",
          "text": [
            "[[1 2 3]\n",
            " [2 3 4]\n",
            " [4 5 6]]\n"
          ]
        }
      ]
    },
    {
      "cell_type": "code",
      "source": [
        "print(m.min())\n",
        "print(m.max())\n",
        "print(m.diagonal())"
      ],
      "metadata": {
        "colab": {
          "base_uri": "https://localhost:8080/"
        },
        "id": "GfPbbDBu6y_Z",
        "outputId": "53cc182d-e2f6-4108-9709-f2344bf0cc9b"
      },
      "execution_count": null,
      "outputs": [
        {
          "output_type": "stream",
          "name": "stdout",
          "text": [
            "1\n",
            "6\n",
            "[[1 3 6]]\n"
          ]
        }
      ]
    },
    {
      "cell_type": "code",
      "source": [
        "m1=matrix('1,2,3;2,3,4;5,6,7')\n",
        "m2=matrix('2,3,4;3,4,5;7,8,9')\n",
        "m3=m1*m2\n",
        "print(m3)"
      ],
      "metadata": {
        "colab": {
          "base_uri": "https://localhost:8080/"
        },
        "id": "gj0zwug07Ga8",
        "outputId": "8c9fcbf4-88e6-46ee-a55a-95f23287f060"
      },
      "execution_count": null,
      "outputs": [
        {
          "output_type": "stream",
          "name": "stdout",
          "text": [
            "[[ 29  35  41]\n",
            " [ 41  50  59]\n",
            " [ 77  95 113]]\n"
          ]
        }
      ]
    },
    {
      "cell_type": "code",
      "source": [],
      "metadata": {
        "id": "-iIzYGGr7k4r"
      },
      "execution_count": null,
      "outputs": []
    }
  ]
}